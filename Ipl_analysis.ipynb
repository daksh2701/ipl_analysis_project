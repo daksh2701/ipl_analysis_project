{
 "cells": [
  {
   "cell_type": "code",
   "execution_count": 1,
   "id": "0092d524-570a-4ef6-83ce-c2f551b26104",
   "metadata": {},
   "outputs": [],
   "source": [
    "import warnings\n",
    "warnings.filterwarnings('ignore')"
   ]
  },
  {
   "cell_type": "code",
   "execution_count": 8,
   "id": "dfac0a63-2e77-41ea-9d90-073308f16212",
   "metadata": {},
   "outputs": [],
   "source": [
    "# Import the libraries\n",
    "import pandas as pd\n",
    "import numpy as np\n",
    "import matplotlib.pyplot as plt\n",
    "import seaborn as sns\n",
    "import plotly.express as px\n",
    "import plotly.graph_objects as go"
   ]
  },
  {
   "cell_type": "code",
   "execution_count": 9,
   "id": "81b38fa7-9cef-4468-9af5-aec160daa730",
   "metadata": {},
   "outputs": [],
   "source": [
    "# set plotting aesthetics\n",
    "sns.set_style('whitegrid')\n",
    "plt.rcParams['figure.figsize'] = (10,6)"
   ]
  },
  {
   "cell_type": "code",
   "execution_count": 12,
   "id": "ba021245-2578-4bda-81f7-50fa0ecb0fb0",
   "metadata": {},
   "outputs": [],
   "source": [
    "# Load dataset\n",
    "matches = pd.read_csv(\"matches (2).csv\")\n",
    "deliveries = pd.read_csv(\"deliveries.csv\")"
   ]
  },
  {
   "cell_type": "code",
   "execution_count": 14,
   "id": "57dc6e63-0a80-4e3b-a018-a96a3af2a8c5",
   "metadata": {},
   "outputs": [
    {
     "name": "stdout",
     "output_type": "stream",
     "text": [
      "Matches: (1095, 20)\n",
      "Deliveries: (260920, 17)\n"
     ]
    }
   ],
   "source": [
    "print('Matches:', matches.shape)\n",
    "print('Deliveries:', deliveries.shape)"
   ]
  },
  {
   "cell_type": "code",
   "execution_count": 15,
   "id": "8d4b095f-6e06-420f-8feb-e4441b508bb2",
   "metadata": {},
   "outputs": [
    {
     "data": {
      "text/html": [
       "<div>\n",
       "<style scoped>\n",
       "    .dataframe tbody tr th:only-of-type {\n",
       "        vertical-align: middle;\n",
       "    }\n",
       "\n",
       "    .dataframe tbody tr th {\n",
       "        vertical-align: top;\n",
       "    }\n",
       "\n",
       "    .dataframe thead th {\n",
       "        text-align: right;\n",
       "    }\n",
       "</style>\n",
       "<table border=\"1\" class=\"dataframe\">\n",
       "  <thead>\n",
       "    <tr style=\"text-align: right;\">\n",
       "      <th></th>\n",
       "      <th>id</th>\n",
       "      <th>season</th>\n",
       "      <th>city</th>\n",
       "      <th>date</th>\n",
       "      <th>match_type</th>\n",
       "      <th>player_of_match</th>\n",
       "      <th>venue</th>\n",
       "      <th>team1</th>\n",
       "      <th>team2</th>\n",
       "      <th>toss_winner</th>\n",
       "      <th>toss_decision</th>\n",
       "      <th>winner</th>\n",
       "      <th>result</th>\n",
       "      <th>result_margin</th>\n",
       "      <th>target_runs</th>\n",
       "      <th>target_overs</th>\n",
       "      <th>super_over</th>\n",
       "      <th>method</th>\n",
       "      <th>umpire1</th>\n",
       "      <th>umpire2</th>\n",
       "    </tr>\n",
       "  </thead>\n",
       "  <tbody>\n",
       "    <tr>\n",
       "      <th>0</th>\n",
       "      <td>335982</td>\n",
       "      <td>2007/08</td>\n",
       "      <td>Bangalore</td>\n",
       "      <td>2008-04-18</td>\n",
       "      <td>League</td>\n",
       "      <td>BB McCullum</td>\n",
       "      <td>M Chinnaswamy Stadium</td>\n",
       "      <td>Royal Challengers Bangalore</td>\n",
       "      <td>Kolkata Knight Riders</td>\n",
       "      <td>Royal Challengers Bangalore</td>\n",
       "      <td>field</td>\n",
       "      <td>Kolkata Knight Riders</td>\n",
       "      <td>runs</td>\n",
       "      <td>140.0</td>\n",
       "      <td>223.0</td>\n",
       "      <td>20.0</td>\n",
       "      <td>N</td>\n",
       "      <td>NaN</td>\n",
       "      <td>Asad Rauf</td>\n",
       "      <td>RE Koertzen</td>\n",
       "    </tr>\n",
       "    <tr>\n",
       "      <th>1</th>\n",
       "      <td>335983</td>\n",
       "      <td>2007/08</td>\n",
       "      <td>Chandigarh</td>\n",
       "      <td>2008-04-19</td>\n",
       "      <td>League</td>\n",
       "      <td>MEK Hussey</td>\n",
       "      <td>Punjab Cricket Association Stadium, Mohali</td>\n",
       "      <td>Kings XI Punjab</td>\n",
       "      <td>Chennai Super Kings</td>\n",
       "      <td>Chennai Super Kings</td>\n",
       "      <td>bat</td>\n",
       "      <td>Chennai Super Kings</td>\n",
       "      <td>runs</td>\n",
       "      <td>33.0</td>\n",
       "      <td>241.0</td>\n",
       "      <td>20.0</td>\n",
       "      <td>N</td>\n",
       "      <td>NaN</td>\n",
       "      <td>MR Benson</td>\n",
       "      <td>SL Shastri</td>\n",
       "    </tr>\n",
       "    <tr>\n",
       "      <th>2</th>\n",
       "      <td>335984</td>\n",
       "      <td>2007/08</td>\n",
       "      <td>Delhi</td>\n",
       "      <td>2008-04-19</td>\n",
       "      <td>League</td>\n",
       "      <td>MF Maharoof</td>\n",
       "      <td>Feroz Shah Kotla</td>\n",
       "      <td>Delhi Daredevils</td>\n",
       "      <td>Rajasthan Royals</td>\n",
       "      <td>Rajasthan Royals</td>\n",
       "      <td>bat</td>\n",
       "      <td>Delhi Daredevils</td>\n",
       "      <td>wickets</td>\n",
       "      <td>9.0</td>\n",
       "      <td>130.0</td>\n",
       "      <td>20.0</td>\n",
       "      <td>N</td>\n",
       "      <td>NaN</td>\n",
       "      <td>Aleem Dar</td>\n",
       "      <td>GA Pratapkumar</td>\n",
       "    </tr>\n",
       "    <tr>\n",
       "      <th>3</th>\n",
       "      <td>335985</td>\n",
       "      <td>2007/08</td>\n",
       "      <td>Mumbai</td>\n",
       "      <td>2008-04-20</td>\n",
       "      <td>League</td>\n",
       "      <td>MV Boucher</td>\n",
       "      <td>Wankhede Stadium</td>\n",
       "      <td>Mumbai Indians</td>\n",
       "      <td>Royal Challengers Bangalore</td>\n",
       "      <td>Mumbai Indians</td>\n",
       "      <td>bat</td>\n",
       "      <td>Royal Challengers Bangalore</td>\n",
       "      <td>wickets</td>\n",
       "      <td>5.0</td>\n",
       "      <td>166.0</td>\n",
       "      <td>20.0</td>\n",
       "      <td>N</td>\n",
       "      <td>NaN</td>\n",
       "      <td>SJ Davis</td>\n",
       "      <td>DJ Harper</td>\n",
       "    </tr>\n",
       "    <tr>\n",
       "      <th>4</th>\n",
       "      <td>335986</td>\n",
       "      <td>2007/08</td>\n",
       "      <td>Kolkata</td>\n",
       "      <td>2008-04-20</td>\n",
       "      <td>League</td>\n",
       "      <td>DJ Hussey</td>\n",
       "      <td>Eden Gardens</td>\n",
       "      <td>Kolkata Knight Riders</td>\n",
       "      <td>Deccan Chargers</td>\n",
       "      <td>Deccan Chargers</td>\n",
       "      <td>bat</td>\n",
       "      <td>Kolkata Knight Riders</td>\n",
       "      <td>wickets</td>\n",
       "      <td>5.0</td>\n",
       "      <td>111.0</td>\n",
       "      <td>20.0</td>\n",
       "      <td>N</td>\n",
       "      <td>NaN</td>\n",
       "      <td>BF Bowden</td>\n",
       "      <td>K Hariharan</td>\n",
       "    </tr>\n",
       "  </tbody>\n",
       "</table>\n",
       "</div>"
      ],
      "text/plain": [
       "       id   season        city        date match_type player_of_match  \\\n",
       "0  335982  2007/08   Bangalore  2008-04-18     League     BB McCullum   \n",
       "1  335983  2007/08  Chandigarh  2008-04-19     League      MEK Hussey   \n",
       "2  335984  2007/08       Delhi  2008-04-19     League     MF Maharoof   \n",
       "3  335985  2007/08      Mumbai  2008-04-20     League      MV Boucher   \n",
       "4  335986  2007/08     Kolkata  2008-04-20     League       DJ Hussey   \n",
       "\n",
       "                                        venue                        team1  \\\n",
       "0                       M Chinnaswamy Stadium  Royal Challengers Bangalore   \n",
       "1  Punjab Cricket Association Stadium, Mohali              Kings XI Punjab   \n",
       "2                            Feroz Shah Kotla             Delhi Daredevils   \n",
       "3                            Wankhede Stadium               Mumbai Indians   \n",
       "4                                Eden Gardens        Kolkata Knight Riders   \n",
       "\n",
       "                         team2                  toss_winner toss_decision  \\\n",
       "0        Kolkata Knight Riders  Royal Challengers Bangalore         field   \n",
       "1          Chennai Super Kings          Chennai Super Kings           bat   \n",
       "2             Rajasthan Royals             Rajasthan Royals           bat   \n",
       "3  Royal Challengers Bangalore               Mumbai Indians           bat   \n",
       "4              Deccan Chargers              Deccan Chargers           bat   \n",
       "\n",
       "                        winner   result  result_margin  target_runs  \\\n",
       "0        Kolkata Knight Riders     runs          140.0        223.0   \n",
       "1          Chennai Super Kings     runs           33.0        241.0   \n",
       "2             Delhi Daredevils  wickets            9.0        130.0   \n",
       "3  Royal Challengers Bangalore  wickets            5.0        166.0   \n",
       "4        Kolkata Knight Riders  wickets            5.0        111.0   \n",
       "\n",
       "   target_overs super_over method    umpire1         umpire2  \n",
       "0          20.0          N    NaN  Asad Rauf     RE Koertzen  \n",
       "1          20.0          N    NaN  MR Benson      SL Shastri  \n",
       "2          20.0          N    NaN  Aleem Dar  GA Pratapkumar  \n",
       "3          20.0          N    NaN   SJ Davis       DJ Harper  \n",
       "4          20.0          N    NaN  BF Bowden     K Hariharan  "
      ]
     },
     "execution_count": 15,
     "metadata": {},
     "output_type": "execute_result"
    }
   ],
   "source": [
    "matches.head(5)"
   ]
  },
  {
   "cell_type": "code",
   "execution_count": 16,
   "id": "6ebcc098-8ad8-4f58-b8ab-a35d87e51f50",
   "metadata": {},
   "outputs": [
    {
     "data": {
      "text/html": [
       "<div>\n",
       "<style scoped>\n",
       "    .dataframe tbody tr th:only-of-type {\n",
       "        vertical-align: middle;\n",
       "    }\n",
       "\n",
       "    .dataframe tbody tr th {\n",
       "        vertical-align: top;\n",
       "    }\n",
       "\n",
       "    .dataframe thead th {\n",
       "        text-align: right;\n",
       "    }\n",
       "</style>\n",
       "<table border=\"1\" class=\"dataframe\">\n",
       "  <thead>\n",
       "    <tr style=\"text-align: right;\">\n",
       "      <th></th>\n",
       "      <th>match_id</th>\n",
       "      <th>inning</th>\n",
       "      <th>batting_team</th>\n",
       "      <th>bowling_team</th>\n",
       "      <th>over</th>\n",
       "      <th>ball</th>\n",
       "      <th>batter</th>\n",
       "      <th>bowler</th>\n",
       "      <th>non_striker</th>\n",
       "      <th>batsman_runs</th>\n",
       "      <th>extra_runs</th>\n",
       "      <th>total_runs</th>\n",
       "      <th>extras_type</th>\n",
       "      <th>is_wicket</th>\n",
       "      <th>player_dismissed</th>\n",
       "      <th>dismissal_kind</th>\n",
       "      <th>fielder</th>\n",
       "    </tr>\n",
       "  </thead>\n",
       "  <tbody>\n",
       "    <tr>\n",
       "      <th>0</th>\n",
       "      <td>335982</td>\n",
       "      <td>1</td>\n",
       "      <td>Kolkata Knight Riders</td>\n",
       "      <td>Royal Challengers Bangalore</td>\n",
       "      <td>0</td>\n",
       "      <td>1</td>\n",
       "      <td>SC Ganguly</td>\n",
       "      <td>P Kumar</td>\n",
       "      <td>BB McCullum</td>\n",
       "      <td>0</td>\n",
       "      <td>1</td>\n",
       "      <td>1</td>\n",
       "      <td>legbyes</td>\n",
       "      <td>0</td>\n",
       "      <td>NaN</td>\n",
       "      <td>NaN</td>\n",
       "      <td>NaN</td>\n",
       "    </tr>\n",
       "    <tr>\n",
       "      <th>1</th>\n",
       "      <td>335982</td>\n",
       "      <td>1</td>\n",
       "      <td>Kolkata Knight Riders</td>\n",
       "      <td>Royal Challengers Bangalore</td>\n",
       "      <td>0</td>\n",
       "      <td>2</td>\n",
       "      <td>BB McCullum</td>\n",
       "      <td>P Kumar</td>\n",
       "      <td>SC Ganguly</td>\n",
       "      <td>0</td>\n",
       "      <td>0</td>\n",
       "      <td>0</td>\n",
       "      <td>NaN</td>\n",
       "      <td>0</td>\n",
       "      <td>NaN</td>\n",
       "      <td>NaN</td>\n",
       "      <td>NaN</td>\n",
       "    </tr>\n",
       "    <tr>\n",
       "      <th>2</th>\n",
       "      <td>335982</td>\n",
       "      <td>1</td>\n",
       "      <td>Kolkata Knight Riders</td>\n",
       "      <td>Royal Challengers Bangalore</td>\n",
       "      <td>0</td>\n",
       "      <td>3</td>\n",
       "      <td>BB McCullum</td>\n",
       "      <td>P Kumar</td>\n",
       "      <td>SC Ganguly</td>\n",
       "      <td>0</td>\n",
       "      <td>1</td>\n",
       "      <td>1</td>\n",
       "      <td>wides</td>\n",
       "      <td>0</td>\n",
       "      <td>NaN</td>\n",
       "      <td>NaN</td>\n",
       "      <td>NaN</td>\n",
       "    </tr>\n",
       "    <tr>\n",
       "      <th>3</th>\n",
       "      <td>335982</td>\n",
       "      <td>1</td>\n",
       "      <td>Kolkata Knight Riders</td>\n",
       "      <td>Royal Challengers Bangalore</td>\n",
       "      <td>0</td>\n",
       "      <td>4</td>\n",
       "      <td>BB McCullum</td>\n",
       "      <td>P Kumar</td>\n",
       "      <td>SC Ganguly</td>\n",
       "      <td>0</td>\n",
       "      <td>0</td>\n",
       "      <td>0</td>\n",
       "      <td>NaN</td>\n",
       "      <td>0</td>\n",
       "      <td>NaN</td>\n",
       "      <td>NaN</td>\n",
       "      <td>NaN</td>\n",
       "    </tr>\n",
       "    <tr>\n",
       "      <th>4</th>\n",
       "      <td>335982</td>\n",
       "      <td>1</td>\n",
       "      <td>Kolkata Knight Riders</td>\n",
       "      <td>Royal Challengers Bangalore</td>\n",
       "      <td>0</td>\n",
       "      <td>5</td>\n",
       "      <td>BB McCullum</td>\n",
       "      <td>P Kumar</td>\n",
       "      <td>SC Ganguly</td>\n",
       "      <td>0</td>\n",
       "      <td>0</td>\n",
       "      <td>0</td>\n",
       "      <td>NaN</td>\n",
       "      <td>0</td>\n",
       "      <td>NaN</td>\n",
       "      <td>NaN</td>\n",
       "      <td>NaN</td>\n",
       "    </tr>\n",
       "  </tbody>\n",
       "</table>\n",
       "</div>"
      ],
      "text/plain": [
       "   match_id  inning           batting_team                 bowling_team  over  \\\n",
       "0    335982       1  Kolkata Knight Riders  Royal Challengers Bangalore     0   \n",
       "1    335982       1  Kolkata Knight Riders  Royal Challengers Bangalore     0   \n",
       "2    335982       1  Kolkata Knight Riders  Royal Challengers Bangalore     0   \n",
       "3    335982       1  Kolkata Knight Riders  Royal Challengers Bangalore     0   \n",
       "4    335982       1  Kolkata Knight Riders  Royal Challengers Bangalore     0   \n",
       "\n",
       "   ball       batter   bowler  non_striker  batsman_runs  extra_runs  \\\n",
       "0     1   SC Ganguly  P Kumar  BB McCullum             0           1   \n",
       "1     2  BB McCullum  P Kumar   SC Ganguly             0           0   \n",
       "2     3  BB McCullum  P Kumar   SC Ganguly             0           1   \n",
       "3     4  BB McCullum  P Kumar   SC Ganguly             0           0   \n",
       "4     5  BB McCullum  P Kumar   SC Ganguly             0           0   \n",
       "\n",
       "   total_runs extras_type  is_wicket player_dismissed dismissal_kind fielder  \n",
       "0           1     legbyes          0              NaN            NaN     NaN  \n",
       "1           0         NaN          0              NaN            NaN     NaN  \n",
       "2           1       wides          0              NaN            NaN     NaN  \n",
       "3           0         NaN          0              NaN            NaN     NaN  \n",
       "4           0         NaN          0              NaN            NaN     NaN  "
      ]
     },
     "execution_count": 16,
     "metadata": {},
     "output_type": "execute_result"
    }
   ],
   "source": [
    "deliveries.head(5)"
   ]
  },
  {
   "cell_type": "code",
   "execution_count": 17,
   "id": "ee7b5a45-c9a1-4c7d-8a05-b4e9a2dbb366",
   "metadata": {},
   "outputs": [
    {
     "name": "stdout",
     "output_type": "stream",
     "text": [
      "\n",
      "Matches info:\n",
      "<class 'pandas.core.frame.DataFrame'>\n",
      "RangeIndex: 1095 entries, 0 to 1094\n",
      "Data columns (total 20 columns):\n",
      " #   Column           Non-Null Count  Dtype  \n",
      "---  ------           --------------  -----  \n",
      " 0   id               1095 non-null   int64  \n",
      " 1   season           1095 non-null   object \n",
      " 2   city             1044 non-null   object \n",
      " 3   date             1095 non-null   object \n",
      " 4   match_type       1095 non-null   object \n",
      " 5   player_of_match  1090 non-null   object \n",
      " 6   venue            1095 non-null   object \n",
      " 7   team1            1095 non-null   object \n",
      " 8   team2            1095 non-null   object \n",
      " 9   toss_winner      1095 non-null   object \n",
      " 10  toss_decision    1095 non-null   object \n",
      " 11  winner           1090 non-null   object \n",
      " 12  result           1095 non-null   object \n",
      " 13  result_margin    1076 non-null   float64\n",
      " 14  target_runs      1092 non-null   float64\n",
      " 15  target_overs     1092 non-null   float64\n",
      " 16  super_over       1095 non-null   object \n",
      " 17  method           21 non-null     object \n",
      " 18  umpire1          1095 non-null   object \n",
      " 19  umpire2          1095 non-null   object \n",
      "dtypes: float64(3), int64(1), object(16)\n",
      "memory usage: 171.2+ KB\n",
      "None\n",
      "\n",
      "Deliveries info:\n",
      "<class 'pandas.core.frame.DataFrame'>\n",
      "RangeIndex: 260920 entries, 0 to 260919\n",
      "Data columns (total 17 columns):\n",
      " #   Column            Non-Null Count   Dtype \n",
      "---  ------            --------------   ----- \n",
      " 0   match_id          260920 non-null  int64 \n",
      " 1   inning            260920 non-null  int64 \n",
      " 2   batting_team      260920 non-null  object\n",
      " 3   bowling_team      260920 non-null  object\n",
      " 4   over              260920 non-null  int64 \n",
      " 5   ball              260920 non-null  int64 \n",
      " 6   batter            260920 non-null  object\n",
      " 7   bowler            260920 non-null  object\n",
      " 8   non_striker       260920 non-null  object\n",
      " 9   batsman_runs      260920 non-null  int64 \n",
      " 10  extra_runs        260920 non-null  int64 \n",
      " 11  total_runs        260920 non-null  int64 \n",
      " 12  extras_type       14125 non-null   object\n",
      " 13  is_wicket         260920 non-null  int64 \n",
      " 14  player_dismissed  12950 non-null   object\n",
      " 15  dismissal_kind    12950 non-null   object\n",
      " 16  fielder           9354 non-null    object\n",
      "dtypes: int64(8), object(9)\n",
      "memory usage: 33.8+ MB\n",
      "None\n"
     ]
    }
   ],
   "source": [
    "# Basic Info\n",
    "print('\\nMatches info:')\n",
    "print(matches.info())\n",
    "print('\\nDeliveries info:')\n",
    "print(deliveries.info())"
   ]
  },
  {
   "cell_type": "code",
   "execution_count": 18,
   "id": "032377b7-5fdc-43d1-827a-d4a62944523f",
   "metadata": {},
   "outputs": [
    {
     "name": "stdout",
     "output_type": "stream",
     "text": [
      "\n",
      "Matches missing values:\n",
      " id                    0\n",
      "season                0\n",
      "city                 51\n",
      "date                  0\n",
      "match_type            0\n",
      "player_of_match       5\n",
      "venue                 0\n",
      "team1                 0\n",
      "team2                 0\n",
      "toss_winner           0\n",
      "toss_decision         0\n",
      "winner                5\n",
      "result                0\n",
      "result_margin        19\n",
      "target_runs           3\n",
      "target_overs          3\n",
      "super_over            0\n",
      "method             1074\n",
      "umpire1               0\n",
      "umpire2               0\n",
      "dtype: int64\n",
      "\n",
      "Deliveries missing values:\n",
      " match_id                 0\n",
      "inning                   0\n",
      "batting_team             0\n",
      "bowling_team             0\n",
      "over                     0\n",
      "ball                     0\n",
      "batter                   0\n",
      "bowler                   0\n",
      "non_striker              0\n",
      "batsman_runs             0\n",
      "extra_runs               0\n",
      "total_runs               0\n",
      "extras_type         246795\n",
      "is_wicket                0\n",
      "player_dismissed    247970\n",
      "dismissal_kind      247970\n",
      "fielder             251566\n",
      "dtype: int64\n"
     ]
    }
   ],
   "source": [
    "# Missing Values\n",
    "print('\\nMatches missing values:\\n', matches.isnull().sum())\n",
    "print('\\nDeliveries missing values:\\n', deliveries.isnull().sum())"
   ]
  },
  {
   "cell_type": "code",
   "execution_count": 19,
   "id": "1724ff56-6232-4d02-8273-92e0fc3eaca5",
   "metadata": {},
   "outputs": [],
   "source": [
    "# Convert date\n",
    "if 'date' in matches.columns:\n",
    "    try:\n",
    "        matches['date'] = pd.to_datetime(matches['date'])\n",
    "    except Exception:\n",
    "        # if date column contains seasons like '2007/08' fallback to string\n",
    "        pass"
   ]
  },
  {
   "cell_type": "code",
   "execution_count": 21,
   "id": "6b28dc1c-28c6-4aba-ab4f-4431a3e2b1dc",
   "metadata": {},
   "outputs": [],
   "source": [
    "# Strip whitespace in string columns that denote teams/players/venues\n",
    "str_cols_matches = ['team1','team2','toss_winner','winner','city','venue','player_of_match','match_type']\n",
    "for c in str_cols_matches:\n",
    "    if c in matches.columns:\n",
    "        matches[c] = matches[c].astype(str).str.strip()\n",
    "\n",
    "str_cols_del = ['batting_team','bowling_team','batter','bowler','non_striker','player_dismissed','extras_type','dismissal_kind','fielder']\n",
    "for c in str_cols_del:\n",
    "    if c in deliveries.columns:\n",
    "        deliveries[c] = deliveries[c].astype(str).str.strip()"
   ]
  },
  {
   "cell_type": "code",
   "execution_count": 22,
   "id": "cba61b22-dab1-47f6-8c42-a8ba54f35b71",
   "metadata": {},
   "outputs": [
    {
     "name": "stdout",
     "output_type": "stream",
     "text": [
      "\n",
      "Duplicate match ids: 0\n"
     ]
    }
   ],
   "source": [
    "# Check duplicates\n",
    "dup_matches = matches.duplicated(subset=['id']).sum()\n",
    "print('\\nDuplicate match ids:', dup_matches)"
   ]
  },
  {
   "cell_type": "code",
   "execution_count": null,
   "id": "e61d5f65-4e05-4d3e-b32a-6bb4fcbf7365",
   "metadata": {},
   "outputs": [],
   "source": [
    "# deliveries should have match_id and over/ball\n",
    "if 'match_id' in deliveries.columns:\n",
    "    dup_del = deliveries.duplicated(subset=['match_id','inning','over','ball']).sum()\n",
    "    print('Duplicate delivery rows (match_id,inning,over,ball):', dup_del)\n"
   ]
  },
  {
   "cell_type": "code",
   "execution_count": null,
   "id": "f074d89d-9f59-4fc9-a2f2-a858ed1d37a7",
   "metadata": {},
   "outputs": [],
   "source": []
  },
  {
   "cell_type": "code",
   "execution_count": null,
   "id": "a8c97f29-e0a8-41ae-8a05-07d139d4fffe",
   "metadata": {},
   "outputs": [],
   "source": [
    "# Basic descriptive analysis\n",
    "# - Total matches\n",
    "# - Matches per season\n",
    "# - Most frequent venues"
   ]
  },
  {
   "cell_type": "code",
   "execution_count": 26,
   "id": "b3d56723-55ee-4a8b-8a63-186aefdc9aea",
   "metadata": {},
   "outputs": [
    {
     "name": "stdout",
     "output_type": "stream",
     "text": [
      "Total unique matches: 1095\n"
     ]
    }
   ],
   "source": [
    "# Total matches\n",
    "total_matches = matches['id'].nunique()\n",
    "print('Total unique matches:', total_matches)"
   ]
  },
  {
   "cell_type": "code",
   "execution_count": 27,
   "id": "4f935f0a-b004-4bcb-80c1-dab54a2db177",
   "metadata": {},
   "outputs": [
    {
     "name": "stdout",
     "output_type": "stream",
     "text": [
      "\n",
      "Matches per season:\n",
      " season\n",
      "2007/08    58\n",
      "2009       57\n",
      "2009/10    60\n",
      "2011       73\n",
      "2012       74\n",
      "2013       76\n",
      "2014       60\n",
      "2015       59\n",
      "2016       60\n",
      "2017       59\n",
      "2018       60\n",
      "2019       60\n",
      "2020/21    60\n",
      "2021       60\n",
      "2022       74\n",
      "2023       74\n",
      "2024       71\n",
      "Name: count, dtype: int64\n"
     ]
    },
    {
     "data": {
      "image/png": "[encoded data removed]",
      "text/plain": [
       "<Figure size 1000x600 with 1 Axes>"
      ]
     },
     "metadata": {},
     "output_type": "display_data"
    }
   ],
   "source": [
    "# Matches per season\n",
    "if 'season' in matches.columns:\n",
    "    matches_per_season = matches['season'].value_counts().sort_index()\n",
    "    print('\\nMatches per season:\\n', matches_per_season)\n",
    "    matches_per_season.plot(kind='bar', title='Matches per Season')\n",
    "    plt.xlabel('Season')\n",
    "    plt.ylabel('Number of Matches')\n",
    "    plt.xticks(rotation=45)\n",
    "    plt.show()"
   ]
  },
  {
   "cell_type": "code",
   "execution_count": 28,
   "id": "628165d3-7c03-41c2-a562-c7df6cbe3727",
   "metadata": {},
   "outputs": [
    {
     "name": "stdout",
     "output_type": "stream",
     "text": [
      "\n",
      "Top venues:\n",
      " venue\n",
      "Eden Gardens                                  77\n",
      "Wankhede Stadium                              73\n",
      "M Chinnaswamy Stadium                         65\n",
      "Feroz Shah Kotla                              60\n",
      "Rajiv Gandhi International Stadium, Uppal     49\n",
      "MA Chidambaram Stadium, Chepauk               48\n",
      "Sawai Mansingh Stadium                        47\n",
      "Dubai International Cricket Stadium           46\n",
      "Wankhede Stadium, Mumbai                      45\n",
      "Punjab Cricket Association Stadium, Mohali    35\n",
      "Sheikh Zayed Stadium                          29\n",
      "Sharjah Cricket Stadium                       28\n",
      "MA Chidambaram Stadium, Chepauk, Chennai      28\n",
      "Narendra Modi Stadium, Ahmedabad              24\n",
      "Maharashtra Cricket Association Stadium       22\n",
      "Name: count, dtype: int64\n"
     ]
    },
    {
     "data": {
      "image/png": "[encoded data removed]",
      "text/plain": [
       "<Figure size 1000x600 with 1 Axes>"
      ]
     },
     "metadata": {},
     "output_type": "display_data"
    }
   ],
   "source": [
    "# Top venues\n",
    "if 'venue' in matches.columns:\n",
    "    top_venues = matches['venue'].value_counts().nlargest(15)\n",
    "    print('\\nTop venues:\\n', top_venues)\n",
    "    sns.barplot(y=top_venues.index, x=top_venues.values)\n",
    "    plt.title('Top 15 Venues by number of matches')\n",
    "    plt.xlabel('Matches')\n",
    "    plt.show()"
   ]
  },
  {
   "cell_type": "code",
   "execution_count": null,
   "id": "e181ddea-d4a3-4a8a-b721-0228f7088480",
   "metadata": {},
   "outputs": [],
   "source": []
  },
  {
   "cell_type": "code",
   "execution_count": null,
   "id": "962d8dc8-69ac-43fa-9385-1c0573b637f2",
   "metadata": {},
   "outputs": [],
   "source": []
  },
  {
   "cell_type": "code",
   "execution_count": 29,
   "id": "fce17b4f-4ca4-445d-b6f0-bb49377d2ee9",
   "metadata": {},
   "outputs": [],
   "source": [
    "# Toss decision vs match outcome\n",
    "# Analyze whether winning the toss gives an advantage."
   ]
  },
  {
   "cell_type": "code",
   "execution_count": 31,
   "id": "91af1757-a90f-43de-9f2a-723a0f7c0473",
   "metadata": {},
   "outputs": [
    {
     "name": "stdout",
     "output_type": "stream",
     "text": [
      "\n",
      "Toss winner also match winner:\n",
      "toss_match_same\n",
      "True     554\n",
      "False    541\n",
      "Name: count, dtype: int64\n",
      "\n",
      "Percentage of matches where toss-winner also won match: 50.59%\n",
      "\n",
      "Toss decision (bat/field) win percentage:\n",
      "                count  sum    win_pct\n",
      "toss_decision                       \n",
      "bat              391  177  45.268542\n",
      "field            704  377  53.551136\n"
     ]
    },
    {
     "data": {
      "image/png": "[encoded data removed]",
      "text/plain": [
       "<Figure size 1000x600 with 1 Axes>"
      ]
     },
     "metadata": {},
     "output_type": "display_data"
    }
   ],
   "source": [
    "# Prepare toss vs winner table\n",
    "if {'toss_winner','winner','toss_decision'}.issubset(matches.columns):\n",
    "    matches['toss_match_same'] = matches['toss_winner'] == matches['winner']\n",
    "    toss_win_counts = matches['toss_match_same'].value_counts()\n",
    "    print('\\nToss winner also match winner:')\n",
    "    print(toss_win_counts)\n",
    "\n",
    "# Percentage\n",
    "    toss_pct = matches['toss_match_same'].mean() * 100\n",
    "    print(f\"\\nPercentage of matches where toss-winner also won match: {toss_pct:.2f}%\")\n",
    "      \n",
    "# Toss decision analysis\n",
    "    decision_table = matches.groupby('toss_decision')['toss_match_same'].agg(['count','sum'])\n",
    "    decision_table['win_pct'] = (decision_table['sum']/decision_table['count'])*100\n",
    "    print('\\nToss decision (bat/field) win percentage:\\n', decision_table)\n",
    "\n",
    "# Plot\n",
    "    decision_table['win_pct'].plot(kind='bar', title='Win % when toss decision is Bat vs Field')\n",
    "    plt.ylabel('Win %')\n",
    "    plt.show()\n",
    "    "
   ]
  },
  {
   "cell_type": "code",
   "execution_count": null,
   "id": "4cbfb93d-d53d-45cf-aead-ae28c6944e9a",
   "metadata": {},
   "outputs": [],
   "source": []
  },
  {
   "cell_type": "code",
   "execution_count": 32,
   "id": "3a072fbe-7220-4174-bc22-263b28993b93",
   "metadata": {},
   "outputs": [],
   "source": [
    "# Top batsmen (career runs) — Using `deliveries`\n",
    "# We'll aggregate runs by batter and get top run-scorers overall and per season."
   ]
  },
  {
   "cell_type": "code",
   "execution_count": 33,
   "id": "023609a6-2db8-44b9-8057-fd3150dab976",
   "metadata": {},
   "outputs": [
    {
     "data": {
      "text/html": [
       "<div>\n",
       "<style scoped>\n",
       "    .dataframe tbody tr th:only-of-type {\n",
       "        vertical-align: middle;\n",
       "    }\n",
       "\n",
       "    .dataframe tbody tr th {\n",
       "        vertical-align: top;\n",
       "    }\n",
       "\n",
       "    .dataframe thead th {\n",
       "        text-align: right;\n",
       "    }\n",
       "</style>\n",
       "<table border=\"1\" class=\"dataframe\">\n",
       "  <thead>\n",
       "    <tr style=\"text-align: right;\">\n",
       "      <th></th>\n",
       "      <th>batter</th>\n",
       "      <th>batsman_runs</th>\n",
       "    </tr>\n",
       "  </thead>\n",
       "  <tbody>\n",
       "    <tr>\n",
       "      <th>0</th>\n",
       "      <td>V Kohli</td>\n",
       "      <td>8014</td>\n",
       "    </tr>\n",
       "    <tr>\n",
       "      <th>1</th>\n",
       "      <td>S Dhawan</td>\n",
       "      <td>6769</td>\n",
       "    </tr>\n",
       "    <tr>\n",
       "      <th>2</th>\n",
       "      <td>RG Sharma</td>\n",
       "      <td>6630</td>\n",
       "    </tr>\n",
       "    <tr>\n",
       "      <th>3</th>\n",
       "      <td>DA Warner</td>\n",
       "      <td>6567</td>\n",
       "    </tr>\n",
       "    <tr>\n",
       "      <th>4</th>\n",
       "      <td>SK Raina</td>\n",
       "      <td>5536</td>\n",
       "    </tr>\n",
       "    <tr>\n",
       "      <th>5</th>\n",
       "      <td>MS Dhoni</td>\n",
       "      <td>5243</td>\n",
       "    </tr>\n",
       "    <tr>\n",
       "      <th>6</th>\n",
       "      <td>AB de Villiers</td>\n",
       "      <td>5181</td>\n",
       "    </tr>\n",
       "    <tr>\n",
       "      <th>7</th>\n",
       "      <td>CH Gayle</td>\n",
       "      <td>4997</td>\n",
       "    </tr>\n",
       "    <tr>\n",
       "      <th>8</th>\n",
       "      <td>RV Uthappa</td>\n",
       "      <td>4954</td>\n",
       "    </tr>\n",
       "    <tr>\n",
       "      <th>9</th>\n",
       "      <td>KD Karthik</td>\n",
       "      <td>4843</td>\n",
       "    </tr>\n",
       "    <tr>\n",
       "      <th>10</th>\n",
       "      <td>KL Rahul</td>\n",
       "      <td>4689</td>\n",
       "    </tr>\n",
       "    <tr>\n",
       "      <th>11</th>\n",
       "      <td>AM Rahane</td>\n",
       "      <td>4642</td>\n",
       "    </tr>\n",
       "    <tr>\n",
       "      <th>12</th>\n",
       "      <td>F du Plessis</td>\n",
       "      <td>4571</td>\n",
       "    </tr>\n",
       "    <tr>\n",
       "      <th>13</th>\n",
       "      <td>SV Samson</td>\n",
       "      <td>4419</td>\n",
       "    </tr>\n",
       "    <tr>\n",
       "      <th>14</th>\n",
       "      <td>AT Rayudu</td>\n",
       "      <td>4348</td>\n",
       "    </tr>\n",
       "    <tr>\n",
       "      <th>15</th>\n",
       "      <td>G Gambhir</td>\n",
       "      <td>4217</td>\n",
       "    </tr>\n",
       "    <tr>\n",
       "      <th>16</th>\n",
       "      <td>SR Watson</td>\n",
       "      <td>3880</td>\n",
       "    </tr>\n",
       "    <tr>\n",
       "      <th>17</th>\n",
       "      <td>MK Pandey</td>\n",
       "      <td>3859</td>\n",
       "    </tr>\n",
       "    <tr>\n",
       "      <th>18</th>\n",
       "      <td>SA Yadav</td>\n",
       "      <td>3594</td>\n",
       "    </tr>\n",
       "    <tr>\n",
       "      <th>19</th>\n",
       "      <td>JC Buttler</td>\n",
       "      <td>3583</td>\n",
       "    </tr>\n",
       "  </tbody>\n",
       "</table>\n",
       "</div>"
      ],
      "text/plain": [
       "            batter  batsman_runs\n",
       "0          V Kohli          8014\n",
       "1         S Dhawan          6769\n",
       "2        RG Sharma          6630\n",
       "3        DA Warner          6567\n",
       "4         SK Raina          5536\n",
       "5         MS Dhoni          5243\n",
       "6   AB de Villiers          5181\n",
       "7         CH Gayle          4997\n",
       "8       RV Uthappa          4954\n",
       "9       KD Karthik          4843\n",
       "10        KL Rahul          4689\n",
       "11       AM Rahane          4642\n",
       "12    F du Plessis          4571\n",
       "13       SV Samson          4419\n",
       "14       AT Rayudu          4348\n",
       "15       G Gambhir          4217\n",
       "16       SR Watson          3880\n",
       "17       MK Pandey          3859\n",
       "18        SA Yadav          3594\n",
       "19      JC Buttler          3583"
      ]
     },
     "metadata": {},
     "output_type": "display_data"
    },
    {
     "data": {
      "image/png": "[encoded data removed]",
      "text/plain": [
       "<Figure size 1000x600 with 1 Axes>"
      ]
     },
     "metadata": {},
     "output_type": "display_data"
    }
   ],
   "source": [
    "# Top batsmen overall\n",
    "if 'batter' in deliveries.columns:\n",
    "    batter_runs = deliveries.groupby('batter')['batsman_runs'].sum().sort_values(ascending=False).reset_index()\n",
    "    top_bats = batter_runs.head(20)\n",
    "    display(top_bats)\n",
    "\n",
    "    # Plot top 20\n",
    "    sns.barplot(y=top_bats['batter'], x=top_bats['batsman_runs'])\n",
    "    plt.title('Top 20 run scorers (overall)')\n",
    "    plt.xlabel('Runs')\n",
    "    plt.show()"
   ]
  },
  {
   "cell_type": "code",
   "execution_count": 34,
   "id": "7dfd24fa-2a26-4cbc-aba1-58ec551c5240",
   "metadata": {},
   "outputs": [
    {
     "name": "stdout",
     "output_type": "stream",
     "text": [
      "\n",
      "Top batsmen in season 2007/08:\n"
     ]
    },
    {
     "data": {
      "text/html": [
       "<div>\n",
       "<style scoped>\n",
       "    .dataframe tbody tr th:only-of-type {\n",
       "        vertical-align: middle;\n",
       "    }\n",
       "\n",
       "    .dataframe tbody tr th {\n",
       "        vertical-align: top;\n",
       "    }\n",
       "\n",
       "    .dataframe thead th {\n",
       "        text-align: right;\n",
       "    }\n",
       "</style>\n",
       "<table border=\"1\" class=\"dataframe\">\n",
       "  <thead>\n",
       "    <tr style=\"text-align: right;\">\n",
       "      <th></th>\n",
       "      <th>season</th>\n",
       "      <th>batter</th>\n",
       "      <th>batsman_runs</th>\n",
       "    </tr>\n",
       "  </thead>\n",
       "  <tbody>\n",
       "    <tr>\n",
       "      <th>115</th>\n",
       "      <td>2007/08</td>\n",
       "      <td>SE Marsh</td>\n",
       "      <td>616</td>\n",
       "    </tr>\n",
       "    <tr>\n",
       "      <th>39</th>\n",
       "      <td>2007/08</td>\n",
       "      <td>G Gambhir</td>\n",
       "      <td>534</td>\n",
       "    </tr>\n",
       "    <tr>\n",
       "      <th>126</th>\n",
       "      <td>2007/08</td>\n",
       "      <td>ST Jayasuriya</td>\n",
       "      <td>514</td>\n",
       "    </tr>\n",
       "    <tr>\n",
       "      <th>124</th>\n",
       "      <td>2007/08</td>\n",
       "      <td>SR Watson</td>\n",
       "      <td>472</td>\n",
       "    </tr>\n",
       "    <tr>\n",
       "      <th>40</th>\n",
       "      <td>2007/08</td>\n",
       "      <td>GC Smith</td>\n",
       "      <td>441</td>\n",
       "    </tr>\n",
       "    <tr>\n",
       "      <th>10</th>\n",
       "      <td>2007/08</td>\n",
       "      <td>AC Gilchrist</td>\n",
       "      <td>436</td>\n",
       "    </tr>\n",
       "    <tr>\n",
       "      <th>149</th>\n",
       "      <td>2007/08</td>\n",
       "      <td>YK Pathan</td>\n",
       "      <td>435</td>\n",
       "    </tr>\n",
       "    <tr>\n",
       "      <th>116</th>\n",
       "      <td>2007/08</td>\n",
       "      <td>SK Raina</td>\n",
       "      <td>421</td>\n",
       "    </tr>\n",
       "    <tr>\n",
       "      <th>76</th>\n",
       "      <td>2007/08</td>\n",
       "      <td>MS Dhoni</td>\n",
       "      <td>414</td>\n",
       "    </tr>\n",
       "    <tr>\n",
       "      <th>139</th>\n",
       "      <td>2007/08</td>\n",
       "      <td>V Sehwag</td>\n",
       "      <td>406</td>\n",
       "    </tr>\n",
       "  </tbody>\n",
       "</table>\n",
       "</div>"
      ],
      "text/plain": [
       "      season         batter  batsman_runs\n",
       "115  2007/08       SE Marsh           616\n",
       "39   2007/08      G Gambhir           534\n",
       "126  2007/08  ST Jayasuriya           514\n",
       "124  2007/08      SR Watson           472\n",
       "40   2007/08       GC Smith           441\n",
       "10   2007/08   AC Gilchrist           436\n",
       "149  2007/08      YK Pathan           435\n",
       "116  2007/08       SK Raina           421\n",
       "76   2007/08       MS Dhoni           414\n",
       "139  2007/08       V Sehwag           406"
      ]
     },
     "metadata": {},
     "output_type": "display_data"
    },
    {
     "name": "stdout",
     "output_type": "stream",
     "text": [
      "\n",
      "Top batsmen in season 2009:\n"
     ]
    },
    {
     "data": {
      "text/html": [
       "<div>\n",
       "<style scoped>\n",
       "    .dataframe tbody tr th:only-of-type {\n",
       "        vertical-align: middle;\n",
       "    }\n",
       "\n",
       "    .dataframe tbody tr th {\n",
       "        vertical-align: top;\n",
       "    }\n",
       "\n",
       "    .dataframe thead th {\n",
       "        text-align: right;\n",
       "    }\n",
       "</style>\n",
       "<table border=\"1\" class=\"dataframe\">\n",
       "  <thead>\n",
       "    <tr style=\"text-align: right;\">\n",
       "      <th></th>\n",
       "      <th>season</th>\n",
       "      <th>batter</th>\n",
       "      <th>batsman_runs</th>\n",
       "    </tr>\n",
       "  </thead>\n",
       "  <tbody>\n",
       "    <tr>\n",
       "      <th>229</th>\n",
       "      <td>2009</td>\n",
       "      <td>ML Hayden</td>\n",
       "      <td>572</td>\n",
       "    </tr>\n",
       "    <tr>\n",
       "      <th>166</th>\n",
       "      <td>2009</td>\n",
       "      <td>AC Gilchrist</td>\n",
       "      <td>495</td>\n",
       "    </tr>\n",
       "    <tr>\n",
       "      <th>165</th>\n",
       "      <td>2009</td>\n",
       "      <td>AB de Villiers</td>\n",
       "      <td>465</td>\n",
       "    </tr>\n",
       "    <tr>\n",
       "      <th>272</th>\n",
       "      <td>2009</td>\n",
       "      <td>SK Raina</td>\n",
       "      <td>434</td>\n",
       "    </tr>\n",
       "    <tr>\n",
       "      <th>288</th>\n",
       "      <td>2009</td>\n",
       "      <td>TM Dilshan</td>\n",
       "      <td>418</td>\n",
       "    </tr>\n",
       "    <tr>\n",
       "      <th>204</th>\n",
       "      <td>2009</td>\n",
       "      <td>JP Duminy</td>\n",
       "      <td>372</td>\n",
       "    </tr>\n",
       "    <tr>\n",
       "      <th>195</th>\n",
       "      <td>2009</td>\n",
       "      <td>HH Gibbs</td>\n",
       "      <td>371</td>\n",
       "    </tr>\n",
       "    <tr>\n",
       "      <th>177</th>\n",
       "      <td>2009</td>\n",
       "      <td>BJ Hodge</td>\n",
       "      <td>365</td>\n",
       "    </tr>\n",
       "    <tr>\n",
       "      <th>279</th>\n",
       "      <td>2009</td>\n",
       "      <td>SR Tendulkar</td>\n",
       "      <td>364</td>\n",
       "    </tr>\n",
       "    <tr>\n",
       "      <th>254</th>\n",
       "      <td>2009</td>\n",
       "      <td>RG Sharma</td>\n",
       "      <td>362</td>\n",
       "    </tr>\n",
       "  </tbody>\n",
       "</table>\n",
       "</div>"
      ],
      "text/plain": [
       "    season          batter  batsman_runs\n",
       "229   2009       ML Hayden           572\n",
       "166   2009    AC Gilchrist           495\n",
       "165   2009  AB de Villiers           465\n",
       "272   2009        SK Raina           434\n",
       "288   2009      TM Dilshan           418\n",
       "204   2009       JP Duminy           372\n",
       "195   2009        HH Gibbs           371\n",
       "177   2009        BJ Hodge           365\n",
       "279   2009    SR Tendulkar           364\n",
       "254   2009       RG Sharma           362"
      ]
     },
     "metadata": {},
     "output_type": "display_data"
    },
    {
     "name": "stdout",
     "output_type": "stream",
     "text": [
      "\n",
      "Top batsmen in season 2009/10:\n"
     ]
    },
    {
     "data": {
      "text/html": [
       "<div>\n",
       "<style scoped>\n",
       "    .dataframe tbody tr th:only-of-type {\n",
       "        vertical-align: middle;\n",
       "    }\n",
       "\n",
       "    .dataframe tbody tr th {\n",
       "        vertical-align: top;\n",
       "    }\n",
       "\n",
       "    .dataframe thead th {\n",
       "        text-align: right;\n",
       "    }\n",
       "</style>\n",
       "<table border=\"1\" class=\"dataframe\">\n",
       "  <thead>\n",
       "    <tr style=\"text-align: right;\">\n",
       "      <th></th>\n",
       "      <th>season</th>\n",
       "      <th>batter</th>\n",
       "      <th>batsman_runs</th>\n",
       "    </tr>\n",
       "  </thead>\n",
       "  <tbody>\n",
       "    <tr>\n",
       "      <th>446</th>\n",
       "      <td>2009/10</td>\n",
       "      <td>SR Tendulkar</td>\n",
       "      <td>618</td>\n",
       "    </tr>\n",
       "    <tr>\n",
       "      <th>365</th>\n",
       "      <td>2009/10</td>\n",
       "      <td>JH Kallis</td>\n",
       "      <td>572</td>\n",
       "    </tr>\n",
       "    <tr>\n",
       "      <th>441</th>\n",
       "      <td>2009/10</td>\n",
       "      <td>SK Raina</td>\n",
       "      <td>528</td>\n",
       "    </tr>\n",
       "    <tr>\n",
       "      <th>437</th>\n",
       "      <td>2009/10</td>\n",
       "      <td>SC Ganguly</td>\n",
       "      <td>493</td>\n",
       "    </tr>\n",
       "    <tr>\n",
       "      <th>386</th>\n",
       "      <td>2009/10</td>\n",
       "      <td>M Vijay</td>\n",
       "      <td>458</td>\n",
       "    </tr>\n",
       "    <tr>\n",
       "      <th>348</th>\n",
       "      <td>2009/10</td>\n",
       "      <td>DPMD Jayawardene</td>\n",
       "      <td>445</td>\n",
       "    </tr>\n",
       "    <tr>\n",
       "      <th>308</th>\n",
       "      <td>2009/10</td>\n",
       "      <td>A Symonds</td>\n",
       "      <td>429</td>\n",
       "    </tr>\n",
       "    <tr>\n",
       "      <th>448</th>\n",
       "      <td>2009/10</td>\n",
       "      <td>SS Tiwary</td>\n",
       "      <td>419</td>\n",
       "    </tr>\n",
       "    <tr>\n",
       "      <th>420</th>\n",
       "      <td>2009/10</td>\n",
       "      <td>RG Sharma</td>\n",
       "      <td>404</td>\n",
       "    </tr>\n",
       "    <tr>\n",
       "      <th>402</th>\n",
       "      <td>2009/10</td>\n",
       "      <td>NV Ojha</td>\n",
       "      <td>377</td>\n",
       "    </tr>\n",
       "  </tbody>\n",
       "</table>\n",
       "</div>"
      ],
      "text/plain": [
       "      season            batter  batsman_runs\n",
       "446  2009/10      SR Tendulkar           618\n",
       "365  2009/10         JH Kallis           572\n",
       "441  2009/10          SK Raina           528\n",
       "437  2009/10        SC Ganguly           493\n",
       "386  2009/10           M Vijay           458\n",
       "348  2009/10  DPMD Jayawardene           445\n",
       "308  2009/10         A Symonds           429\n",
       "448  2009/10         SS Tiwary           419\n",
       "420  2009/10         RG Sharma           404\n",
       "402  2009/10           NV Ojha           377"
      ]
     },
     "metadata": {},
     "output_type": "display_data"
    }
   ],
   "source": [
    "# Top batsmen by season (requires mapping deliveries -> match season)\n",
    "if 'match_id' in deliveries.columns and 'id' in matches.columns and 'season' in matches.columns:\n",
    "\n",
    "# prepare match_id -> season map\n",
    "    id_to_season = matches.set_index('id')['season'].to_dict()\n",
    "    deliveries['season'] = deliveries['match_id'].map(id_to_season)\n",
    "    season_top = deliveries.groupby(['season','batter'])['batsman_runs'].sum().reset_index()\n",
    "\n",
    "# for demonstration show top for a few seasons\n",
    "    example_seasons = deliveries['season'].dropna().unique()[:3]\n",
    "    for s in example_seasons:\n",
    "        top_in_season = season_top[season_top['season']==s].sort_values('batsman_runs', ascending=False).head(10)\n",
    "        print(f\"\\nTop batsmen in season {s}:\")\n",
    "        display(top_in_season)"
   ]
  },
  {
   "cell_type": "code",
   "execution_count": null,
   "id": "1170e7df-7918-421f-b1e5-ca520aa97f9c",
   "metadata": {},
   "outputs": [],
   "source": []
  },
  {
   "cell_type": "code",
   "execution_count": 35,
   "id": "857176df-ef1d-4273-b592-2fb574ebb1a9",
   "metadata": {},
   "outputs": [],
   "source": [
    "# Top bowlers (wickets & economy)\n",
    "# We'll compute wickets for bowlers and economy rate (runs conceded per over)."
   ]
  },
  {
   "cell_type": "code",
   "execution_count": 36,
   "id": "482983bb-f15e-43b7-92a7-1e25c00dd1a5",
   "metadata": {},
   "outputs": [
    {
     "data": {
      "text/html": [
       "<div>\n",
       "<style scoped>\n",
       "    .dataframe tbody tr th:only-of-type {\n",
       "        vertical-align: middle;\n",
       "    }\n",
       "\n",
       "    .dataframe tbody tr th {\n",
       "        vertical-align: top;\n",
       "    }\n",
       "\n",
       "    .dataframe thead th {\n",
       "        text-align: right;\n",
       "    }\n",
       "</style>\n",
       "<table border=\"1\" class=\"dataframe\">\n",
       "  <thead>\n",
       "    <tr style=\"text-align: right;\">\n",
       "      <th></th>\n",
       "      <th>bowler</th>\n",
       "      <th>wicket_counted</th>\n",
       "    </tr>\n",
       "  </thead>\n",
       "  <tbody>\n",
       "    <tr>\n",
       "      <th>0</th>\n",
       "      <td>YS Chahal</td>\n",
       "      <td>205</td>\n",
       "    </tr>\n",
       "    <tr>\n",
       "      <th>1</th>\n",
       "      <td>PP Chawla</td>\n",
       "      <td>192</td>\n",
       "    </tr>\n",
       "    <tr>\n",
       "      <th>2</th>\n",
       "      <td>DJ Bravo</td>\n",
       "      <td>183</td>\n",
       "    </tr>\n",
       "    <tr>\n",
       "      <th>3</th>\n",
       "      <td>B Kumar</td>\n",
       "      <td>181</td>\n",
       "    </tr>\n",
       "    <tr>\n",
       "      <th>4</th>\n",
       "      <td>SP Narine</td>\n",
       "      <td>180</td>\n",
       "    </tr>\n",
       "    <tr>\n",
       "      <th>5</th>\n",
       "      <td>R Ashwin</td>\n",
       "      <td>180</td>\n",
       "    </tr>\n",
       "    <tr>\n",
       "      <th>6</th>\n",
       "      <td>A Mishra</td>\n",
       "      <td>174</td>\n",
       "    </tr>\n",
       "    <tr>\n",
       "      <th>7</th>\n",
       "      <td>SL Malinga</td>\n",
       "      <td>170</td>\n",
       "    </tr>\n",
       "    <tr>\n",
       "      <th>8</th>\n",
       "      <td>JJ Bumrah</td>\n",
       "      <td>168</td>\n",
       "    </tr>\n",
       "    <tr>\n",
       "      <th>9</th>\n",
       "      <td>RA Jadeja</td>\n",
       "      <td>160</td>\n",
       "    </tr>\n",
       "    <tr>\n",
       "      <th>10</th>\n",
       "      <td>Harbhajan Singh</td>\n",
       "      <td>150</td>\n",
       "    </tr>\n",
       "    <tr>\n",
       "      <th>11</th>\n",
       "      <td>Rashid Khan</td>\n",
       "      <td>149</td>\n",
       "    </tr>\n",
       "    <tr>\n",
       "      <th>12</th>\n",
       "      <td>UT Yadav</td>\n",
       "      <td>144</td>\n",
       "    </tr>\n",
       "    <tr>\n",
       "      <th>13</th>\n",
       "      <td>Sandeep Sharma</td>\n",
       "      <td>137</td>\n",
       "    </tr>\n",
       "    <tr>\n",
       "      <th>14</th>\n",
       "      <td>HV Patel</td>\n",
       "      <td>135</td>\n",
       "    </tr>\n",
       "    <tr>\n",
       "      <th>15</th>\n",
       "      <td>MM Sharma</td>\n",
       "      <td>132</td>\n",
       "    </tr>\n",
       "    <tr>\n",
       "      <th>16</th>\n",
       "      <td>Mohammed Shami</td>\n",
       "      <td>127</td>\n",
       "    </tr>\n",
       "    <tr>\n",
       "      <th>17</th>\n",
       "      <td>AR Patel</td>\n",
       "      <td>123</td>\n",
       "    </tr>\n",
       "    <tr>\n",
       "      <th>18</th>\n",
       "      <td>TA Boult</td>\n",
       "      <td>121</td>\n",
       "    </tr>\n",
       "    <tr>\n",
       "      <th>19</th>\n",
       "      <td>K Rabada</td>\n",
       "      <td>120</td>\n",
       "    </tr>\n",
       "  </tbody>\n",
       "</table>\n",
       "</div>"
      ],
      "text/plain": [
       "             bowler  wicket_counted\n",
       "0         YS Chahal             205\n",
       "1         PP Chawla             192\n",
       "2          DJ Bravo             183\n",
       "3           B Kumar             181\n",
       "4         SP Narine             180\n",
       "5          R Ashwin             180\n",
       "6          A Mishra             174\n",
       "7        SL Malinga             170\n",
       "8         JJ Bumrah             168\n",
       "9         RA Jadeja             160\n",
       "10  Harbhajan Singh             150\n",
       "11      Rashid Khan             149\n",
       "12         UT Yadav             144\n",
       "13   Sandeep Sharma             137\n",
       "14         HV Patel             135\n",
       "15        MM Sharma             132\n",
       "16   Mohammed Shami             127\n",
       "17         AR Patel             123\n",
       "18         TA Boult             121\n",
       "19         K Rabada             120"
      ]
     },
     "metadata": {},
     "output_type": "display_data"
    },
    {
     "data": {
      "text/html": [
       "<div>\n",
       "<style scoped>\n",
       "    .dataframe tbody tr th:only-of-type {\n",
       "        vertical-align: middle;\n",
       "    }\n",
       "\n",
       "    .dataframe tbody tr th {\n",
       "        vertical-align: top;\n",
       "    }\n",
       "\n",
       "    .dataframe thead th {\n",
       "        text-align: right;\n",
       "    }\n",
       "</style>\n",
       "<table border=\"1\" class=\"dataframe\">\n",
       "  <thead>\n",
       "    <tr style=\"text-align: right;\">\n",
       "      <th></th>\n",
       "      <th>bowler</th>\n",
       "      <th>runs_conceded</th>\n",
       "      <th>legal_deliveries</th>\n",
       "      <th>overs</th>\n",
       "      <th>economy</th>\n",
       "    </tr>\n",
       "  </thead>\n",
       "  <tbody>\n",
       "    <tr>\n",
       "      <th>24</th>\n",
       "      <td>AC Gilchrist</td>\n",
       "      <td>0</td>\n",
       "      <td>1</td>\n",
       "      <td>0.166667</td>\n",
       "      <td>0.000000</td>\n",
       "    </tr>\n",
       "    <tr>\n",
       "      <th>364</th>\n",
       "      <td>R Ravindra</td>\n",
       "      <td>7</td>\n",
       "      <td>12</td>\n",
       "      <td>2.000000</td>\n",
       "      <td>3.500000</td>\n",
       "    </tr>\n",
       "    <tr>\n",
       "      <th>317</th>\n",
       "      <td>NB Singh</td>\n",
       "      <td>18</td>\n",
       "      <td>24</td>\n",
       "      <td>4.000000</td>\n",
       "      <td>4.500000</td>\n",
       "    </tr>\n",
       "    <tr>\n",
       "      <th>460</th>\n",
       "      <td>Sachin Baby</td>\n",
       "      <td>8</td>\n",
       "      <td>10</td>\n",
       "      <td>1.666667</td>\n",
       "      <td>4.800000</td>\n",
       "    </tr>\n",
       "    <tr>\n",
       "      <th>38</th>\n",
       "      <td>AM Rahane</td>\n",
       "      <td>5</td>\n",
       "      <td>6</td>\n",
       "      <td>1.000000</td>\n",
       "      <td>5.000000</td>\n",
       "    </tr>\n",
       "    <tr>\n",
       "      <th>125</th>\n",
       "      <td>DJ Thornely</td>\n",
       "      <td>40</td>\n",
       "      <td>42</td>\n",
       "      <td>7.000000</td>\n",
       "      <td>5.714286</td>\n",
       "    </tr>\n",
       "    <tr>\n",
       "      <th>260</th>\n",
       "      <td>M Manhas</td>\n",
       "      <td>42</td>\n",
       "      <td>42</td>\n",
       "      <td>7.000000</td>\n",
       "      <td>6.000000</td>\n",
       "    </tr>\n",
       "    <tr>\n",
       "      <th>453</th>\n",
       "      <td>SS Mundhe</td>\n",
       "      <td>6</td>\n",
       "      <td>6</td>\n",
       "      <td>1.000000</td>\n",
       "      <td>6.000000</td>\n",
       "    </tr>\n",
       "    <tr>\n",
       "      <th>245</th>\n",
       "      <td>LA Carseldine</td>\n",
       "      <td>6</td>\n",
       "      <td>6</td>\n",
       "      <td>1.000000</td>\n",
       "      <td>6.000000</td>\n",
       "    </tr>\n",
       "    <tr>\n",
       "      <th>296</th>\n",
       "      <td>MW Short</td>\n",
       "      <td>25</td>\n",
       "      <td>24</td>\n",
       "      <td>4.000000</td>\n",
       "      <td>6.250000</td>\n",
       "    </tr>\n",
       "    <tr>\n",
       "      <th>2</th>\n",
       "      <td>A Chandila</td>\n",
       "      <td>245</td>\n",
       "      <td>234</td>\n",
       "      <td>39.000000</td>\n",
       "      <td>6.282051</td>\n",
       "    </tr>\n",
       "    <tr>\n",
       "      <th>344</th>\n",
       "      <td>PH Solanki</td>\n",
       "      <td>39</td>\n",
       "      <td>36</td>\n",
       "      <td>6.000000</td>\n",
       "      <td>6.500000</td>\n",
       "    </tr>\n",
       "    <tr>\n",
       "      <th>315</th>\n",
       "      <td>N Wadhera</td>\n",
       "      <td>13</td>\n",
       "      <td>12</td>\n",
       "      <td>2.000000</td>\n",
       "      <td>6.500000</td>\n",
       "    </tr>\n",
       "    <tr>\n",
       "      <th>217</th>\n",
       "      <td>KA Maharaj</td>\n",
       "      <td>39</td>\n",
       "      <td>36</td>\n",
       "      <td>6.000000</td>\n",
       "      <td>6.500000</td>\n",
       "    </tr>\n",
       "    <tr>\n",
       "      <th>281</th>\n",
       "      <td>MJ Clarke</td>\n",
       "      <td>72</td>\n",
       "      <td>66</td>\n",
       "      <td>11.000000</td>\n",
       "      <td>6.545455</td>\n",
       "    </tr>\n",
       "    <tr>\n",
       "      <th>443</th>\n",
       "      <td>SMSM Senanayake</td>\n",
       "      <td>211</td>\n",
       "      <td>192</td>\n",
       "      <td>32.000000</td>\n",
       "      <td>6.593750</td>\n",
       "    </tr>\n",
       "    <tr>\n",
       "      <th>473</th>\n",
       "      <td>Sohail Tanvir</td>\n",
       "      <td>275</td>\n",
       "      <td>248</td>\n",
       "      <td>41.333333</td>\n",
       "      <td>6.653226</td>\n",
       "    </tr>\n",
       "    <tr>\n",
       "      <th>319</th>\n",
       "      <td>NJ Rimmington</td>\n",
       "      <td>20</td>\n",
       "      <td>18</td>\n",
       "      <td>3.000000</td>\n",
       "      <td>6.666667</td>\n",
       "    </tr>\n",
       "    <tr>\n",
       "      <th>442</th>\n",
       "      <td>SM Pollock</td>\n",
       "      <td>307</td>\n",
       "      <td>276</td>\n",
       "      <td>46.000000</td>\n",
       "      <td>6.673913</td>\n",
       "    </tr>\n",
       "    <tr>\n",
       "      <th>204</th>\n",
       "      <td>JW Hastings</td>\n",
       "      <td>66</td>\n",
       "      <td>59</td>\n",
       "      <td>9.833333</td>\n",
       "      <td>6.711864</td>\n",
       "    </tr>\n",
       "  </tbody>\n",
       "</table>\n",
       "</div>"
      ],
      "text/plain": [
       "              bowler  runs_conceded  legal_deliveries      overs   economy\n",
       "24      AC Gilchrist              0                 1   0.166667  0.000000\n",
       "364       R Ravindra              7                12   2.000000  3.500000\n",
       "317         NB Singh             18                24   4.000000  4.500000\n",
       "460      Sachin Baby              8                10   1.666667  4.800000\n",
       "38         AM Rahane              5                 6   1.000000  5.000000\n",
       "125      DJ Thornely             40                42   7.000000  5.714286\n",
       "260         M Manhas             42                42   7.000000  6.000000\n",
       "453        SS Mundhe              6                 6   1.000000  6.000000\n",
       "245    LA Carseldine              6                 6   1.000000  6.000000\n",
       "296         MW Short             25                24   4.000000  6.250000\n",
       "2         A Chandila            245               234  39.000000  6.282051\n",
       "344       PH Solanki             39                36   6.000000  6.500000\n",
       "315        N Wadhera             13                12   2.000000  6.500000\n",
       "217       KA Maharaj             39                36   6.000000  6.500000\n",
       "281        MJ Clarke             72                66  11.000000  6.545455\n",
       "443  SMSM Senanayake            211               192  32.000000  6.593750\n",
       "473    Sohail Tanvir            275               248  41.333333  6.653226\n",
       "319    NJ Rimmington             20                18   3.000000  6.666667\n",
       "442       SM Pollock            307               276  46.000000  6.673913\n",
       "204      JW Hastings             66                59   9.833333  6.711864"
      ]
     },
     "metadata": {},
     "output_type": "display_data"
    }
   ],
   "source": [
    "if 'bowler' in deliveries.columns:\n",
    "# Wickets: count rows where is_wicket==1 and dismissal_kind not in ['run out', 'retired hurt', 'obstructing the field'] ideally\n",
    "    wk_deliveries = deliveries.copy()\n",
    "    \n",
    "# Some deliveries may have 'is_wicket' as string '0' etc. coerce\n",
    "    wk_deliveries['is_wicket'] = pd.to_numeric(wk_deliveries['is_wicket'], errors='coerce').fillna(0).astype(int)\n",
    "\n",
    "    dismissals_to_count = ['bowled','caught','lbw','stumped','caught and bowled','hit wicket']\n",
    "    wk_deliveries['wicket_counted'] = wk_deliveries.apply(lambda r: 1 if (r['is_wicket']==1 and str(r['dismissal_kind']).strip().lower() in dismissals_to_count) else 0, axis=1)\n",
    "\n",
    "    bowler_wickets = wk_deliveries.groupby('bowler')['wicket_counted'].sum().sort_values(ascending=False).reset_index()\n",
    "    top_bowlers = bowler_wickets.head(20)\n",
    "    display(top_bowlers)\n",
    "\n",
    "# Economy: runs conceded / overs bowled; note wides/no-balls add to runs but still count as legal ball? For simplicity, we'll compute total runs conceded and legal deliveries/6.\n",
    "    runs_conceded = deliveries.groupby('bowler')['total_runs'].sum()\n",
    "    legal_balls = deliveries[deliveries['extras_type'].isin(['wides','no ball','nan'])==False]\n",
    "    \n",
    "# instead, better: consider deliveries where ball is legal: deliveries where extras_type is not 'wides' and not 'no ball'\n",
    "    legal_ball_mask = ~deliveries['extras_type'].isin(['wides','no ball'])\n",
    "    legal_balls_count = deliveries[legal_ball_mask].groupby('bowler').size()\n",
    "\n",
    "    econ = (runs_conceded / (legal_balls_count/6)).sort_values()\n",
    "    econ = econ.reset_index().rename(columns={0:'economy','bowler':'bowler'})\n",
    "    \n",
    "# The above rename may be wrong shape; better compute properly:\n",
    "    econ_df = (runs_conceded.reset_index().rename(columns={'total_runs':'runs_conceded'})).merge(\n",
    "        legal_balls_count.reset_index().rename(columns={0:'legal_deliveries', 'index':'bowler'}),\n",
    "        on='bowler', how='left')\n",
    "    econ_df['overs'] = econ_df['legal_deliveries'] / 6\n",
    "    econ_df['economy'] = econ_df['runs_conceded'] / econ_df['overs']\n",
    "    econ_df = econ_df.replace([np.inf, -np.inf], np.nan).dropna(subset=['economy']).sort_values('economy')\n",
    "    display(econ_df.head(20))"
   ]
  },
  {
   "cell_type": "code",
   "execution_count": null,
   "id": "dec44c0b-c210-4976-95f1-d80525aae0c7",
   "metadata": {},
   "outputs": [],
   "source": []
  },
  {
   "cell_type": "code",
   "execution_count": null,
   "id": "00d1fac3-7987-4d1b-ba4f-26b893f736c0",
   "metadata": {},
   "outputs": [],
   "source": [
    "# Player of the Match frequency"
   ]
  },
  {
   "cell_type": "code",
   "execution_count": 37,
   "id": "b0ff0505-8e3d-47dc-8dc4-9ca2525c1428",
   "metadata": {},
   "outputs": [
    {
     "data": {
      "text/plain": [
       "player_of_match\n",
       "AB de Villiers    25\n",
       "CH Gayle          22\n",
       "RG Sharma         19\n",
       "DA Warner         18\n",
       "V Kohli           18\n",
       "MS Dhoni          17\n",
       "RA Jadeja         16\n",
       "YK Pathan         16\n",
       "SR Watson         16\n",
       "AD Russell        15\n",
       "SP Narine         15\n",
       "KA Pollard        14\n",
       "SK Raina          14\n",
       "G Gambhir         13\n",
       "KL Rahul          13\n",
       "AM Rahane         13\n",
       "JC Buttler        13\n",
       "A Mishra          12\n",
       "Rashid Khan       12\n",
       "S Dhawan          12\n",
       "Name: count, dtype: int64"
      ]
     },
     "metadata": {},
     "output_type": "display_data"
    },
    {
     "data": {
      "image/png": "[encoded data removed]",
      "text/plain": [
       "<Figure size 1000x600 with 1 Axes>"
      ]
     },
     "metadata": {},
     "output_type": "display_data"
    }
   ],
   "source": [
    "if 'player_of_match' in matches.columns:\n",
    "    pom = matches['player_of_match'].value_counts().head(20)\n",
    "    display(pom)\n",
    "    sns.barplot(y=pom.index, x=pom.values)\n",
    "    plt.title('Top Player of the Match awards')\n",
    "    plt.xlabel('Awards')\n",
    "    plt.show()"
   ]
  },
  {
   "cell_type": "code",
   "execution_count": 38,
   "id": "be6da2a7-d0c9-459b-8c05-2dd88d2b3276",
   "metadata": {},
   "outputs": [],
   "source": []
  },
  {
   "cell_type": "code",
   "execution_count": null,
   "id": "aedbe4d4-cd34-46cd-9fd9-030e9b73e572",
   "metadata": {},
   "outputs": [],
   "source": [
    "# Team performance & win counts\n",
    "# - Team wins overall\n",
    "# - Win percentage per team"
   ]
  },
  {
   "cell_type": "code",
   "execution_count": 39,
   "id": "7de753b6-7564-4130-9649-0d6739eec044",
   "metadata": {},
   "outputs": [
    {
     "data": {
      "text/html": [
       "<div>\n",
       "<style scoped>\n",
       "    .dataframe tbody tr th:only-of-type {\n",
       "        vertical-align: middle;\n",
       "    }\n",
       "\n",
       "    .dataframe tbody tr th {\n",
       "        vertical-align: top;\n",
       "    }\n",
       "\n",
       "    .dataframe thead th {\n",
       "        text-align: right;\n",
       "    }\n",
       "</style>\n",
       "<table border=\"1\" class=\"dataframe\">\n",
       "  <thead>\n",
       "    <tr style=\"text-align: right;\">\n",
       "      <th></th>\n",
       "      <th>team</th>\n",
       "      <th>wins</th>\n",
       "    </tr>\n",
       "  </thead>\n",
       "  <tbody>\n",
       "    <tr>\n",
       "      <th>0</th>\n",
       "      <td>Mumbai Indians</td>\n",
       "      <td>144</td>\n",
       "    </tr>\n",
       "    <tr>\n",
       "      <th>1</th>\n",
       "      <td>Chennai Super Kings</td>\n",
       "      <td>138</td>\n",
       "    </tr>\n",
       "    <tr>\n",
       "      <th>2</th>\n",
       "      <td>Kolkata Knight Riders</td>\n",
       "      <td>131</td>\n",
       "    </tr>\n",
       "    <tr>\n",
       "      <th>3</th>\n",
       "      <td>Royal Challengers Bangalore</td>\n",
       "      <td>116</td>\n",
       "    </tr>\n",
       "    <tr>\n",
       "      <th>4</th>\n",
       "      <td>Rajasthan Royals</td>\n",
       "      <td>112</td>\n",
       "    </tr>\n",
       "    <tr>\n",
       "      <th>5</th>\n",
       "      <td>Kings XI Punjab</td>\n",
       "      <td>88</td>\n",
       "    </tr>\n",
       "    <tr>\n",
       "      <th>6</th>\n",
       "      <td>Sunrisers Hyderabad</td>\n",
       "      <td>88</td>\n",
       "    </tr>\n",
       "    <tr>\n",
       "      <th>7</th>\n",
       "      <td>Delhi Daredevils</td>\n",
       "      <td>67</td>\n",
       "    </tr>\n",
       "    <tr>\n",
       "      <th>8</th>\n",
       "      <td>Delhi Capitals</td>\n",
       "      <td>48</td>\n",
       "    </tr>\n",
       "    <tr>\n",
       "      <th>9</th>\n",
       "      <td>Deccan Chargers</td>\n",
       "      <td>29</td>\n",
       "    </tr>\n",
       "    <tr>\n",
       "      <th>10</th>\n",
       "      <td>Gujarat Titans</td>\n",
       "      <td>28</td>\n",
       "    </tr>\n",
       "    <tr>\n",
       "      <th>11</th>\n",
       "      <td>Punjab Kings</td>\n",
       "      <td>24</td>\n",
       "    </tr>\n",
       "    <tr>\n",
       "      <th>12</th>\n",
       "      <td>Lucknow Super Giants</td>\n",
       "      <td>24</td>\n",
       "    </tr>\n",
       "    <tr>\n",
       "      <th>13</th>\n",
       "      <td>Gujarat Lions</td>\n",
       "      <td>13</td>\n",
       "    </tr>\n",
       "    <tr>\n",
       "      <th>14</th>\n",
       "      <td>Pune Warriors</td>\n",
       "      <td>12</td>\n",
       "    </tr>\n",
       "    <tr>\n",
       "      <th>15</th>\n",
       "      <td>Rising Pune Supergiant</td>\n",
       "      <td>10</td>\n",
       "    </tr>\n",
       "    <tr>\n",
       "      <th>16</th>\n",
       "      <td>Royal Challengers Bengaluru</td>\n",
       "      <td>7</td>\n",
       "    </tr>\n",
       "    <tr>\n",
       "      <th>17</th>\n",
       "      <td>Kochi Tuskers Kerala</td>\n",
       "      <td>6</td>\n",
       "    </tr>\n",
       "    <tr>\n",
       "      <th>18</th>\n",
       "      <td>nan</td>\n",
       "      <td>5</td>\n",
       "    </tr>\n",
       "    <tr>\n",
       "      <th>19</th>\n",
       "      <td>Rising Pune Supergiants</td>\n",
       "      <td>5</td>\n",
       "    </tr>\n",
       "  </tbody>\n",
       "</table>\n",
       "</div>"
      ],
      "text/plain": [
       "                           team  wins\n",
       "0                Mumbai Indians   144\n",
       "1           Chennai Super Kings   138\n",
       "2         Kolkata Knight Riders   131\n",
       "3   Royal Challengers Bangalore   116\n",
       "4              Rajasthan Royals   112\n",
       "5               Kings XI Punjab    88\n",
       "6           Sunrisers Hyderabad    88\n",
       "7              Delhi Daredevils    67\n",
       "8                Delhi Capitals    48\n",
       "9               Deccan Chargers    29\n",
       "10               Gujarat Titans    28\n",
       "11                 Punjab Kings    24\n",
       "12         Lucknow Super Giants    24\n",
       "13                Gujarat Lions    13\n",
       "14                Pune Warriors    12\n",
       "15       Rising Pune Supergiant    10\n",
       "16  Royal Challengers Bengaluru     7\n",
       "17         Kochi Tuskers Kerala     6\n",
       "18                          nan     5\n",
       "19      Rising Pune Supergiants     5"
      ]
     },
     "metadata": {},
     "output_type": "display_data"
    },
    {
     "data": {
      "text/html": [
       "<div>\n",
       "<style scoped>\n",
       "    .dataframe tbody tr th:only-of-type {\n",
       "        vertical-align: middle;\n",
       "    }\n",
       "\n",
       "    .dataframe tbody tr th {\n",
       "        vertical-align: top;\n",
       "    }\n",
       "\n",
       "    .dataframe thead th {\n",
       "        text-align: right;\n",
       "    }\n",
       "</style>\n",
       "<table border=\"1\" class=\"dataframe\">\n",
       "  <thead>\n",
       "    <tr style=\"text-align: right;\">\n",
       "      <th></th>\n",
       "      <th>team</th>\n",
       "      <th>wins</th>\n",
       "      <th>matches_played</th>\n",
       "      <th>win_pct</th>\n",
       "    </tr>\n",
       "  </thead>\n",
       "  <tbody>\n",
       "    <tr>\n",
       "      <th>6</th>\n",
       "      <td>Mumbai Indians</td>\n",
       "      <td>144</td>\n",
       "      <td>261</td>\n",
       "      <td>55.172414</td>\n",
       "    </tr>\n",
       "    <tr>\n",
       "      <th>3</th>\n",
       "      <td>Chennai Super Kings</td>\n",
       "      <td>138</td>\n",
       "      <td>238</td>\n",
       "      <td>57.983193</td>\n",
       "    </tr>\n",
       "    <tr>\n",
       "      <th>1</th>\n",
       "      <td>Kolkata Knight Riders</td>\n",
       "      <td>131</td>\n",
       "      <td>251</td>\n",
       "      <td>52.191235</td>\n",
       "    </tr>\n",
       "    <tr>\n",
       "      <th>0</th>\n",
       "      <td>Royal Challengers Bangalore</td>\n",
       "      <td>116</td>\n",
       "      <td>240</td>\n",
       "      <td>48.333333</td>\n",
       "    </tr>\n",
       "    <tr>\n",
       "      <th>5</th>\n",
       "      <td>Rajasthan Royals</td>\n",
       "      <td>112</td>\n",
       "      <td>221</td>\n",
       "      <td>50.678733</td>\n",
       "    </tr>\n",
       "    <tr>\n",
       "      <th>2</th>\n",
       "      <td>Kings XI Punjab</td>\n",
       "      <td>88</td>\n",
       "      <td>190</td>\n",
       "      <td>46.315789</td>\n",
       "    </tr>\n",
       "    <tr>\n",
       "      <th>10</th>\n",
       "      <td>Sunrisers Hyderabad</td>\n",
       "      <td>88</td>\n",
       "      <td>182</td>\n",
       "      <td>48.351648</td>\n",
       "    </tr>\n",
       "    <tr>\n",
       "      <th>4</th>\n",
       "      <td>Delhi Daredevils</td>\n",
       "      <td>67</td>\n",
       "      <td>161</td>\n",
       "      <td>41.614907</td>\n",
       "    </tr>\n",
       "    <tr>\n",
       "      <th>14</th>\n",
       "      <td>Delhi Capitals</td>\n",
       "      <td>48</td>\n",
       "      <td>91</td>\n",
       "      <td>52.747253</td>\n",
       "    </tr>\n",
       "    <tr>\n",
       "      <th>7</th>\n",
       "      <td>Deccan Chargers</td>\n",
       "      <td>29</td>\n",
       "      <td>75</td>\n",
       "      <td>38.666667</td>\n",
       "    </tr>\n",
       "    <tr>\n",
       "      <th>17</th>\n",
       "      <td>Gujarat Titans</td>\n",
       "      <td>28</td>\n",
       "      <td>45</td>\n",
       "      <td>62.222222</td>\n",
       "    </tr>\n",
       "    <tr>\n",
       "      <th>15</th>\n",
       "      <td>Punjab Kings</td>\n",
       "      <td>24</td>\n",
       "      <td>56</td>\n",
       "      <td>42.857143</td>\n",
       "    </tr>\n",
       "    <tr>\n",
       "      <th>16</th>\n",
       "      <td>Lucknow Super Giants</td>\n",
       "      <td>24</td>\n",
       "      <td>44</td>\n",
       "      <td>54.545455</td>\n",
       "    </tr>\n",
       "    <tr>\n",
       "      <th>12</th>\n",
       "      <td>Gujarat Lions</td>\n",
       "      <td>13</td>\n",
       "      <td>30</td>\n",
       "      <td>43.333333</td>\n",
       "    </tr>\n",
       "    <tr>\n",
       "      <th>9</th>\n",
       "      <td>Pune Warriors</td>\n",
       "      <td>12</td>\n",
       "      <td>46</td>\n",
       "      <td>26.086957</td>\n",
       "    </tr>\n",
       "    <tr>\n",
       "      <th>13</th>\n",
       "      <td>Rising Pune Supergiant</td>\n",
       "      <td>10</td>\n",
       "      <td>16</td>\n",
       "      <td>62.500000</td>\n",
       "    </tr>\n",
       "    <tr>\n",
       "      <th>18</th>\n",
       "      <td>Royal Challengers Bengaluru</td>\n",
       "      <td>7</td>\n",
       "      <td>15</td>\n",
       "      <td>46.666667</td>\n",
       "    </tr>\n",
       "    <tr>\n",
       "      <th>8</th>\n",
       "      <td>Kochi Tuskers Kerala</td>\n",
       "      <td>6</td>\n",
       "      <td>14</td>\n",
       "      <td>42.857143</td>\n",
       "    </tr>\n",
       "    <tr>\n",
       "      <th>11</th>\n",
       "      <td>Rising Pune Supergiants</td>\n",
       "      <td>5</td>\n",
       "      <td>14</td>\n",
       "      <td>35.714286</td>\n",
       "    </tr>\n",
       "  </tbody>\n",
       "</table>\n",
       "</div>"
      ],
      "text/plain": [
       "                           team  wins  matches_played    win_pct\n",
       "6                Mumbai Indians   144             261  55.172414\n",
       "3           Chennai Super Kings   138             238  57.983193\n",
       "1         Kolkata Knight Riders   131             251  52.191235\n",
       "0   Royal Challengers Bangalore   116             240  48.333333\n",
       "5              Rajasthan Royals   112             221  50.678733\n",
       "2               Kings XI Punjab    88             190  46.315789\n",
       "10          Sunrisers Hyderabad    88             182  48.351648\n",
       "4              Delhi Daredevils    67             161  41.614907\n",
       "14               Delhi Capitals    48              91  52.747253\n",
       "7               Deccan Chargers    29              75  38.666667\n",
       "17               Gujarat Titans    28              45  62.222222\n",
       "15                 Punjab Kings    24              56  42.857143\n",
       "16         Lucknow Super Giants    24              44  54.545455\n",
       "12                Gujarat Lions    13              30  43.333333\n",
       "9                 Pune Warriors    12              46  26.086957\n",
       "13       Rising Pune Supergiant    10              16  62.500000\n",
       "18  Royal Challengers Bengaluru     7              15  46.666667\n",
       "8          Kochi Tuskers Kerala     6              14  42.857143\n",
       "11      Rising Pune Supergiants     5              14  35.714286"
      ]
     },
     "metadata": {},
     "output_type": "display_data"
    },
    {
     "data": {
      "image/png": "[encoded data removed]",
      "text/plain": [
       "<Figure size 1000x600 with 1 Axes>"
      ]
     },
     "metadata": {},
     "output_type": "display_data"
    }
   ],
   "source": [
    "if 'winner' in matches.columns:\n",
    "    team_wins = matches['winner'].value_counts().reset_index()\n",
    "    team_wins.columns = ['team','wins']\n",
    "    display(team_wins.head(20))\n",
    "\n",
    "# Matches played by teams: count occurrences in team1 or team2\n",
    "    teams = pd.unique(matches[['team1','team2']].values.ravel())\n",
    "    matches_played = []\n",
    "    for t in teams:\n",
    "        mp = ((matches['team1']==t) | (matches['team2']==t)).sum()\n",
    "        matches_played.append({'team':t,'matches_played':mp})\n",
    "    matches_played = pd.DataFrame(matches_played)\n",
    "\n",
    "    team_summary = team_wins.merge(matches_played, left_on='team', right_on='team', how='right').fillna(0)\n",
    "    team_summary['win_pct'] = (team_summary['wins']/team_summary['matches_played'])*100\n",
    "    team_summary = team_summary.sort_values('wins', ascending=False)\n",
    "    display(team_summary)\n",
    "\n",
    "# Plot wins\n",
    "    sns.barplot(y=team_summary['team'], x=team_summary['wins'])\n",
    "    plt.title('Total wins by team')\n",
    "    plt.show()"
   ]
  },
  {
   "cell_type": "code",
   "execution_count": null,
   "id": "5d832bfd-8b73-4c06-8c10-cde0ba20de48",
   "metadata": {},
   "outputs": [],
   "source": []
  },
  {
   "cell_type": "code",
   "execution_count": null,
   "id": "ada5efca-ffa2-4c33-986a-7e97b91b0e95",
   "metadata": {},
   "outputs": [],
   "source": [
    "# Head-to-head / Rivalry"
   ]
  },
  {
   "cell_type": "code",
   "execution_count": 40,
   "id": "5d47bdb3-0cde-43b6-a378-a43e12c3fec7",
   "metadata": {},
   "outputs": [
    {
     "name": "stdout",
     "output_type": "stream",
     "text": [
      "Total matches between Chennai Super Kings and Mumbai Indians : 37\n"
     ]
    },
    {
     "data": {
      "text/plain": [
       "winner\n",
       "Mumbai Indians         20\n",
       "Chennai Super Kings    17\n",
       "Name: count, dtype: int64"
      ]
     },
     "metadata": {},
     "output_type": "display_data"
    },
    {
     "data": {
      "image/png": "[encoded data removed]",
      "text/plain": [
       "<Figure size 1000x600 with 1 Axes>"
      ]
     },
     "metadata": {},
     "output_type": "display_data"
    }
   ],
   "source": [
    "r1, r2 = 'Chennai Super Kings', 'Mumbai Indians'\n",
    "if set([r1,r2]).issubset(matches['team1'].unique()):\n",
    "    hh = matches[((matches['team1']==r1) & (matches['team2']==r2)) | ((matches['team1']==r2) & (matches['team2']==r1))]\n",
    "    print('Total matches between', r1, 'and', r2, ':', hh.shape[0])\n",
    "    hh_wins = hh['winner'].value_counts()\n",
    "    display(hh_wins)\n",
    "    sns.countplot(data=hh, x='winner')\n",
    "    plt.title(f'Head-to-head: {r1} vs {r2} (Total {hh.shape[0]} matches)')\n",
    "    plt.xticks(rotation=45)\n",
    "    plt.show()\n",
    "else:\n",
    "    print('One or both teams not found in team list. Available teams sample:', matches['team1'].unique()[:10])\n"
   ]
  },
  {
   "cell_type": "code",
   "execution_count": null,
   "id": "7a1eb8f4-451c-46b6-95f8-c38e27fa35d1",
   "metadata": {},
   "outputs": [],
   "source": []
  },
  {
   "cell_type": "code",
   "execution_count": 41,
   "id": "356fcaa8-7db1-4265-9330-b9057aab4870",
   "metadata": {},
   "outputs": [],
   "source": [
    "# Venue performance"
   ]
  },
  {
   "cell_type": "code",
   "execution_count": 42,
   "id": "a8d43978-be39-4fb4-9f59-3e2a351163df",
   "metadata": {},
   "outputs": [
    {
     "data": {
      "text/html": [
       "<div>\n",
       "<style scoped>\n",
       "    .dataframe tbody tr th:only-of-type {\n",
       "        vertical-align: middle;\n",
       "    }\n",
       "\n",
       "    .dataframe tbody tr th {\n",
       "        vertical-align: top;\n",
       "    }\n",
       "\n",
       "    .dataframe thead th {\n",
       "        text-align: right;\n",
       "    }\n",
       "</style>\n",
       "<table border=\"1\" class=\"dataframe\">\n",
       "  <thead>\n",
       "    <tr style=\"text-align: right;\">\n",
       "      <th></th>\n",
       "      <th>venue</th>\n",
       "      <th>winner</th>\n",
       "      <th>wins</th>\n",
       "    </tr>\n",
       "  </thead>\n",
       "  <tbody>\n",
       "    <tr>\n",
       "      <th>89</th>\n",
       "      <td>Eden Gardens</td>\n",
       "      <td>Kolkata Knight Riders</td>\n",
       "      <td>45</td>\n",
       "    </tr>\n",
       "    <tr>\n",
       "      <th>364</th>\n",
       "      <td>Wankhede Stadium</td>\n",
       "      <td>Mumbai Indians</td>\n",
       "      <td>42</td>\n",
       "    </tr>\n",
       "    <tr>\n",
       "      <th>173</th>\n",
       "      <td>MA Chidambaram Stadium, Chepauk</td>\n",
       "      <td>Chennai Super Kings</td>\n",
       "      <td>33</td>\n",
       "    </tr>\n",
       "    <tr>\n",
       "      <th>304</th>\n",
       "      <td>Sawai Mansingh Stadium</td>\n",
       "      <td>Rajasthan Royals</td>\n",
       "      <td>32</td>\n",
       "    </tr>\n",
       "    <tr>\n",
       "      <th>154</th>\n",
       "      <td>M Chinnaswamy Stadium</td>\n",
       "      <td>Royal Challengers Bangalore</td>\n",
       "      <td>29</td>\n",
       "    </tr>\n",
       "    <tr>\n",
       "      <th>105</th>\n",
       "      <td>Feroz Shah Kotla</td>\n",
       "      <td>Delhi Daredevils</td>\n",
       "      <td>23</td>\n",
       "    </tr>\n",
       "    <tr>\n",
       "      <th>276</th>\n",
       "      <td>Rajiv Gandhi International Stadium, Uppal</td>\n",
       "      <td>Sunrisers Hyderabad</td>\n",
       "      <td>20</td>\n",
       "    </tr>\n",
       "    <tr>\n",
       "      <th>253</th>\n",
       "      <td>Punjab Cricket Association Stadium, Mohali</td>\n",
       "      <td>Kings XI Punjab</td>\n",
       "      <td>18</td>\n",
       "    </tr>\n",
       "    <tr>\n",
       "      <th>182</th>\n",
       "      <td>MA Chidambaram Stadium, Chepauk, Chennai</td>\n",
       "      <td>Chennai Super Kings</td>\n",
       "      <td>10</td>\n",
       "    </tr>\n",
       "    <tr>\n",
       "      <th>90</th>\n",
       "      <td>Eden Gardens</td>\n",
       "      <td>Mumbai Indians</td>\n",
       "      <td>10</td>\n",
       "    </tr>\n",
       "    <tr>\n",
       "      <th>264</th>\n",
       "      <td>Rajiv Gandhi International Stadium</td>\n",
       "      <td>Sunrisers Hyderabad</td>\n",
       "      <td>10</td>\n",
       "    </tr>\n",
       "    <tr>\n",
       "      <th>376</th>\n",
       "      <td>Wankhede Stadium, Mumbai</td>\n",
       "      <td>Mumbai Indians</td>\n",
       "      <td>10</td>\n",
       "    </tr>\n",
       "    <tr>\n",
       "      <th>73</th>\n",
       "      <td>Dubai International Cricket Stadium</td>\n",
       "      <td>Chennai Super Kings</td>\n",
       "      <td>9</td>\n",
       "    </tr>\n",
       "    <tr>\n",
       "      <th>214</th>\n",
       "      <td>Narendra Modi Stadium, Ahmedabad</td>\n",
       "      <td>Gujarat Titans</td>\n",
       "      <td>9</td>\n",
       "    </tr>\n",
       "    <tr>\n",
       "      <th>151</th>\n",
       "      <td>M Chinnaswamy Stadium</td>\n",
       "      <td>Mumbai Indians</td>\n",
       "      <td>8</td>\n",
       "    </tr>\n",
       "  </tbody>\n",
       "</table>\n",
       "</div>"
      ],
      "text/plain": [
       "                                          venue                       winner  \\\n",
       "89                                 Eden Gardens        Kolkata Knight Riders   \n",
       "364                            Wankhede Stadium               Mumbai Indians   \n",
       "173             MA Chidambaram Stadium, Chepauk          Chennai Super Kings   \n",
       "304                      Sawai Mansingh Stadium             Rajasthan Royals   \n",
       "154                       M Chinnaswamy Stadium  Royal Challengers Bangalore   \n",
       "105                            Feroz Shah Kotla             Delhi Daredevils   \n",
       "276   Rajiv Gandhi International Stadium, Uppal          Sunrisers Hyderabad   \n",
       "253  Punjab Cricket Association Stadium, Mohali              Kings XI Punjab   \n",
       "182    MA Chidambaram Stadium, Chepauk, Chennai          Chennai Super Kings   \n",
       "90                                 Eden Gardens               Mumbai Indians   \n",
       "264          Rajiv Gandhi International Stadium          Sunrisers Hyderabad   \n",
       "376                    Wankhede Stadium, Mumbai               Mumbai Indians   \n",
       "73          Dubai International Cricket Stadium          Chennai Super Kings   \n",
       "214            Narendra Modi Stadium, Ahmedabad               Gujarat Titans   \n",
       "151                       M Chinnaswamy Stadium               Mumbai Indians   \n",
       "\n",
       "     wins  \n",
       "89     45  \n",
       "364    42  \n",
       "173    33  \n",
       "304    32  \n",
       "154    29  \n",
       "105    23  \n",
       "276    20  \n",
       "253    18  \n",
       "182    10  \n",
       "90     10  \n",
       "264    10  \n",
       "376    10  \n",
       "73      9  \n",
       "214     9  \n",
       "151     8  "
      ]
     },
     "metadata": {},
     "output_type": "display_data"
    },
    {
     "data": {
      "image/png": "[encoded data removed]",
      "text/plain": [
       "<Figure size 1200x800 with 2 Axes>"
      ]
     },
     "metadata": {},
     "output_type": "display_data"
    }
   ],
   "source": [
    "if 'venue' in matches.columns and 'winner' in matches.columns:\n",
    "    venue_wins = matches.groupby(['venue','winner']).size().reset_index(name='wins')\n",
    "# For demonstration show top 10 (venue, winner) pairs\n",
    "    display(venue_wins.sort_values('wins', ascending=False).head(15))\n",
    "\n",
    "# Visual: heatmap of wins by venue for top teams\n",
    "    top_teams = team_summary['team'].head(6).tolist()\n",
    "    vtop = matches[matches['winner'].isin(top_teams)]\n",
    "    vt = pd.crosstab(vtop['venue'], vtop['winner'])\n",
    "    vt = vt.loc[vt.sum(axis=1).nlargest(12).index]\n",
    "    plt.figure(figsize=(12,8))\n",
    "    sns.heatmap(vt, annot=True, fmt='d')\n",
    "    plt.title('Wins at top venues by top teams')\n",
    "    plt.show()"
   ]
  },
  {
   "cell_type": "code",
   "execution_count": null,
   "id": "28791931-4b74-44a0-8c34-0d95064e8b5e",
   "metadata": {},
   "outputs": [],
   "source": []
  },
  {
   "cell_type": "code",
   "execution_count": 43,
   "id": "bee22b97-71c2-4ed3-91f8-0e99d272601a",
   "metadata": {},
   "outputs": [],
   "source": [
    "#  Runs by top batsmen"
   ]
  },
  {
   "cell_type": "code",
   "execution_count": 46,
   "id": "e10dfdb3-6cdc-496e-9ac5-6f1c163ad9b7",
   "metadata": {},
   "outputs": [
    {
     "data": {
      "application/vnd.plotly.v1+json": {
       "config": {
        "plotlyServerURL": "https://plot.ly"
       },
       "data": [
        {
         "hovertemplate": "Batsman=%{x}<br>Runs=%{y}<extra></extra>",
         "legendgroup": "",
         "marker": {
          "color": "#636efa",
          "pattern": {
           "shape": ""
          }
         },
         "name": "",
         "orientation": "v",
         "showlegend": false,
         "textposition": "auto",
         "type": "bar",
         "x": [
          "V Kohli",
          "S Dhawan",
          "RG Sharma",
          "DA Warner",
          "SK Raina",
          "MS Dhoni",
          "AB de Villiers",
          "CH Gayle",
          "RV Uthappa",
          "KD Karthik"
         ],
         "xaxis": "x",
         "y": {
          "bdata": "Th9xGuYZpxmgFXsUPRSFE1oT6xI=",
          "dtype": "i2"
         },
         "yaxis": "y"
        }
       ],
       "layout": {
        "barmode": "relative",
        "legend": {
         "tracegroupgap": 0
        },
        "template": {
         "data": {
          "bar": [
           {
            "error_x": {
             "color": "#2a3f5f"
            },
            "error_y": {
             "color": "#2a3f5f"
            },
            "marker": {
             "line": {
              "color": "#E5ECF6",
              "width": 0.5
             },
             "pattern": {
              "fillmode": "overlay",
              "size": 10,
              "solidity": 0.2
             }
            },
            "type": "bar"
           }
          ],
          "barpolar": [
           {
            "marker": {
             "line": {
              "color": "#E5ECF6",
              "width": 0.5
             },
             "pattern": {
              "fillmode": "overlay",
              "size": 10,
              "solidity": 0.2
             }
            },
            "type": "barpolar"
           }
          ],
          "carpet": [
           {
            "aaxis": {
             "endlinecolor": "#2a3f5f",
             "gridcolor": "white",
             "linecolor": "white",
             "minorgridcolor": "white",
             "startlinecolor": "#2a3f5f"
            },
            "baxis": {
             "endlinecolor": "#2a3f5f",
             "gridcolor": "white",
             "linecolor": "white",
             "minorgridcolor": "white",
             "startlinecolor": "#2a3f5f"
            },
            "type": "carpet"
           }
          ],
          "choropleth": [
           {
            "colorbar": {
             "outlinewidth": 0,
             "ticks": ""
            },
            "type": "choropleth"
           }
          ],
          "contour": [
           {
            "colorbar": {
             "outlinewidth": 0,
             "ticks": ""
            },
            "colorscale": [
             [
              0,
              "#0d0887"
             ],
             [
              0.1111111111111111,
              "#46039f"
             ],
             [
              0.2222222222222222,
              "#7201a8"
             ],
             [
              0.3333333333333333,
              "#9c179e"
             ],
             [
              0.4444444444444444,
              "#bd3786"
             ],
             [
              0.5555555555555556,
              "#d8576b"
             ],
             [
              0.6666666666666666,
              "#ed7953"
             ],
             [
              0.7777777777777778,
              "#fb9f3a"
             ],
             [
              0.8888888888888888,
              "#fdca26"
             ],
             [
              1,
              "#f0f921"
             ]
            ],
            "type": "contour"
           }
          ],
          "contourcarpet": [
           {
            "colorbar": {
             "outlinewidth": 0,
             "ticks": ""
            },
            "type": "contourcarpet"
           }
          ],
          "heatmap": [
           {
            "colorbar": {
             "outlinewidth": 0,
             "ticks": ""
            },
            "colorscale": [
             [
              0,
              "#0d0887"
             ],
             [
              0.1111111111111111,
              "#46039f"
             ],
             [
              0.2222222222222222,
              "#7201a8"
             ],
             [
              0.3333333333333333,
              "#9c179e"
             ],
             [
              0.4444444444444444,
              "#bd3786"
             ],
             [
              0.5555555555555556,
              "#d8576b"
             ],
             [
              0.6666666666666666,
              "#ed7953"
             ],
             [
              0.7777777777777778,
              "#fb9f3a"
             ],
             [
              0.8888888888888888,
              "#fdca26"
             ],
             [
              1,
              "#f0f921"
             ]
            ],
            "type": "heatmap"
           }
          ],
          "histogram": [
           {
            "marker": {
             "pattern": {
              "fillmode": "overlay",
              "size": 10,
              "solidity": 0.2
             }
            },
            "type": "histogram"
           }
          ],
          "histogram2d": [
           {
            "colorbar": {
             "outlinewidth": 0,
             "ticks": ""
            },
            "colorscale": [
             [
              0,
              "#0d0887"
             ],
             [
              0.1111111111111111,
              "#46039f"
             ],
             [
              0.2222222222222222,
              "#7201a8"
             ],
             [
              0.3333333333333333,
              "#9c179e"
             ],
             [
              0.4444444444444444,
              "#bd3786"
             ],
             [
              0.5555555555555556,
              "#d8576b"
             ],
             [
              0.6666666666666666,
              "#ed7953"
             ],
             [
              0.7777777777777778,
              "#fb9f3a"
             ],
             [
              0.8888888888888888,
              "#fdca26"
             ],
             [
              1,
              "#f0f921"
             ]
            ],
            "type": "histogram2d"
           }
          ],
          "histogram2dcontour": [
           {
            "colorbar": {
             "outlinewidth": 0,
             "ticks": ""
            },
            "colorscale": [
             [
              0,
              "#0d0887"
             ],
             [
              0.1111111111111111,
              "#46039f"
             ],
             [
              0.2222222222222222,
              "#7201a8"
             ],
             [
              0.3333333333333333,
              "#9c179e"
             ],
             [
              0.4444444444444444,
              "#bd3786"
             ],
             [
              0.5555555555555556,
              "#d8576b"
             ],
             [
              0.6666666666666666,
              "#ed7953"
             ],
             [
              0.7777777777777778,
              "#fb9f3a"
             ],
             [
              0.8888888888888888,
              "#fdca26"
             ],
             [
              1,
              "#f0f921"
             ]
            ],
            "type": "histogram2dcontour"
           }
          ],
          "mesh3d": [
           {
            "colorbar": {
             "outlinewidth": 0,
             "ticks": ""
            },
            "type": "mesh3d"
           }
          ],
          "parcoords": [
           {
            "line": {
             "colorbar": {
              "outlinewidth": 0,
              "ticks": ""
             }
            },
            "type": "parcoords"
           }
          ],
          "pie": [
           {
            "automargin": true,
            "type": "pie"
           }
          ],
          "scatter": [
           {
            "fillpattern": {
             "fillmode": "overlay",
             "size": 10,
             "solidity": 0.2
            },
            "type": "scatter"
           }
          ],
          "scatter3d": [
           {
            "line": {
             "colorbar": {
              "outlinewidth": 0,
              "ticks": ""
             }
            },
            "marker": {
             "colorbar": {
              "outlinewidth": 0,
              "ticks": ""
             }
            },
            "type": "scatter3d"
           }
          ],
          "scattercarpet": [
           {
            "marker": {
             "colorbar": {
              "outlinewidth": 0,
              "ticks": ""
             }
            },
            "type": "scattercarpet"
           }
          ],
          "scattergeo": [
           {
            "marker": {
             "colorbar": {
              "outlinewidth": 0,
              "ticks": ""
             }
            },
            "type": "scattergeo"
           }
          ],
          "scattergl": [
           {
            "marker": {
             "colorbar": {
              "outlinewidth": 0,
              "ticks": ""
             }
            },
            "type": "scattergl"
           }
          ],
          "scattermap": [
           {
            "marker": {
             "colorbar": {
              "outlinewidth": 0,
              "ticks": ""
             }
            },
            "type": "scattermap"
           }
          ],
          "scattermapbox": [
           {
            "marker": {
             "colorbar": {
              "outlinewidth": 0,
              "ticks": ""
             }
            },
            "type": "scattermapbox"
           }
          ],
          "scatterpolar": [
           {
            "marker": {
             "colorbar": {
              "outlinewidth": 0,
              "ticks": ""
             }
            },
            "type": "scatterpolar"
           }
          ],
          "scatterpolargl": [
           {
            "marker": {
             "colorbar": {
              "outlinewidth": 0,
              "ticks": ""
             }
            },
            "type": "scatterpolargl"
           }
          ],
          "scatterternary": [
           {
            "marker": {
             "colorbar": {
              "outlinewidth": 0,
              "ticks": ""
             }
            },
            "type": "scatterternary"
           }
          ],
          "surface": [
           {
            "colorbar": {
             "outlinewidth": 0,
             "ticks": ""
            },
            "colorscale": [
             [
              0,
              "#0d0887"
             ],
             [
              0.1111111111111111,
              "#46039f"
             ],
             [
              0.2222222222222222,
              "#7201a8"
             ],
             [
              0.3333333333333333,
              "#9c179e"
             ],
             [
              0.4444444444444444,
              "#bd3786"
             ],
             [
              0.5555555555555556,
              "#d8576b"
             ],
             [
              0.6666666666666666,
              "#ed7953"
             ],
             [
              0.7777777777777778,
              "#fb9f3a"
             ],
             [
              0.8888888888888888,
              "#fdca26"
             ],
             [
              1,
              "#f0f921"
             ]
            ],
            "type": "surface"
           }
          ],
          "table": [
           {
            "cells": {
             "fill": {
              "color": "#EBF0F8"
             },
             "line": {
              "color": "white"
             }
            },
            "header": {
             "fill": {
              "color": "#C8D4E3"
             },
             "line": {
              "color": "white"
             }
            },
            "type": "table"
           }
          ]
         },
         "layout": {
          "annotationdefaults": {
           "arrowcolor": "#2a3f5f",
           "arrowhead": 0,
           "arrowwidth": 1
          },
          "autotypenumbers": "strict",
          "coloraxis": {
           "colorbar": {
            "outlinewidth": 0,
            "ticks": ""
           }
          },
          "colorscale": {
           "diverging": [
            [
             0,
             "#8e0152"
            ],
            [
             0.1,
             "#c51b7d"
            ],
            [
             0.2,
             "#de77ae"
            ],
            [
             0.3,
             "#f1b6da"
            ],
            [
             0.4,
             "#fde0ef"
            ],
            [
             0.5,
             "#f7f7f7"
            ],
            [
             0.6,
             "#e6f5d0"
            ],
            [
             0.7,
             "#b8e186"
            ],
            [
             0.8,
             "#7fbc41"
            ],
            [
             0.9,
             "#4d9221"
            ],
            [
             1,
             "#276419"
            ]
           ],
           "sequential": [
            [
             0,
             "#0d0887"
            ],
            [
             0.1111111111111111,
             "#46039f"
            ],
            [
             0.2222222222222222,
             "#7201a8"
            ],
            [
             0.3333333333333333,
             "#9c179e"
            ],
            [
             0.4444444444444444,
             "#bd3786"
            ],
            [
             0.5555555555555556,
             "#d8576b"
            ],
            [
             0.6666666666666666,
             "#ed7953"
            ],
            [
             0.7777777777777778,
             "#fb9f3a"
            ],
            [
             0.8888888888888888,
             "#fdca26"
            ],
            [
             1,
             "#f0f921"
            ]
           ],
           "sequentialminus": [
            [
             0,
             "#0d0887"
            ],
            [
             0.1111111111111111,
             "#46039f"
            ],
            [
             0.2222222222222222,
             "#7201a8"
            ],
            [
             0.3333333333333333,
             "#9c179e"
            ],
            [
             0.4444444444444444,
             "#bd3786"
            ],
            [
             0.5555555555555556,
             "#d8576b"
            ],
            [
             0.6666666666666666,
             "#ed7953"
            ],
            [
             0.7777777777777778,
             "#fb9f3a"
            ],
            [
             0.8888888888888888,
             "#fdca26"
            ],
            [
             1,
             "#f0f921"
            ]
           ]
          },
          "colorway": [
           "#636efa",
           "#EF553B",
           "#00cc96",
           "#ab63fa",
           "#FFA15A",
           "#19d3f3",
           "#FF6692",
           "#B6E880",
           "#FF97FF",
           "#FECB52"
          ],
          "font": {
           "color": "#2a3f5f"
          },
          "geo": {
           "bgcolor": "white",
           "lakecolor": "white",
           "landcolor": "#E5ECF6",
           "showlakes": true,
           "showland": true,
           "subunitcolor": "white"
          },
          "hoverlabel": {
           "align": "left"
          },
          "hovermode": "closest",
          "mapbox": {
           "style": "light"
          },
          "paper_bgcolor": "white",
          "plot_bgcolor": "#E5ECF6",
          "polar": {
           "angularaxis": {
            "gridcolor": "white",
            "linecolor": "white",
            "ticks": ""
           },
           "bgcolor": "#E5ECF6",
           "radialaxis": {
            "gridcolor": "white",
            "linecolor": "white",
            "ticks": ""
           }
          },
          "scene": {
           "xaxis": {
            "backgroundcolor": "#E5ECF6",
            "gridcolor": "white",
            "gridwidth": 2,
            "linecolor": "white",
            "showbackground": true,
            "ticks": "",
            "zerolinecolor": "white"
           },
           "yaxis": {
            "backgroundcolor": "#E5ECF6",
            "gridcolor": "white",
            "gridwidth": 2,
            "linecolor": "white",
            "showbackground": true,
            "ticks": "",
            "zerolinecolor": "white"
           },
           "zaxis": {
            "backgroundcolor": "#E5ECF6",
            "gridcolor": "white",
            "gridwidth": 2,
            "linecolor": "white",
            "showbackground": true,
            "ticks": "",
            "zerolinecolor": "white"
           }
          },
          "shapedefaults": {
           "line": {
            "color": "#2a3f5f"
           }
          },
          "ternary": {
           "aaxis": {
            "gridcolor": "white",
            "linecolor": "white",
            "ticks": ""
           },
           "baxis": {
            "gridcolor": "white",
            "linecolor": "white",
            "ticks": ""
           },
           "bgcolor": "#E5ECF6",
           "caxis": {
            "gridcolor": "white",
            "linecolor": "white",
            "ticks": ""
           }
          },
          "title": {
           "x": 0.05
          },
          "xaxis": {
           "automargin": true,
           "gridcolor": "white",
           "linecolor": "white",
           "ticks": "",
           "title": {
            "standoff": 15
           },
           "zerolinecolor": "white",
           "zerolinewidth": 2
          },
          "yaxis": {
           "automargin": true,
           "gridcolor": "white",
           "linecolor": "white",
           "ticks": "",
           "title": {
            "standoff": 15
           },
           "zerolinecolor": "white",
           "zerolinewidth": 2
          }
         }
        },
        "title": {
         "text": "Top 10 run scorers (overall)"
        },
        "xaxis": {
         "anchor": "y",
         "domain": [
          0,
          1
         ],
         "title": {
          "text": "Batsman"
         }
        },
        "yaxis": {
         "anchor": "x",
         "domain": [
          0,
          1
         ],
         "title": {
          "text": "Runs"
         }
        }
       }
      }
     },
     "metadata": {},
     "output_type": "display_data"
    }
   ],
   "source": [
    "if 'batter' in deliveries.columns:\n",
    "    top10 = batter_runs.head(10)\n",
    "    fig = px.bar(top10, x='batter', y='batsman_runs', title='Top 10 run scorers (overall)', labels={'batsman_runs':'Runs','batter':'Batsman'})\n",
    "    fig.show()"
   ]
  },
  {
   "cell_type": "code",
   "execution_count": null,
   "id": "70145e7c-f6d0-45b7-bca0-c72583a52aa6",
   "metadata": {},
   "outputs": [],
   "source": []
  },
  {
   "cell_type": "code",
   "execution_count": 47,
   "id": "37a8ec8d-8239-4541-b152-6cf92f759198",
   "metadata": {},
   "outputs": [],
   "source": [
    "# Extras & their impact"
   ]
  },
  {
   "cell_type": "code",
   "execution_count": 48,
   "id": "41cb1df1-c9ff-435b-89b5-687ccaea96ad",
   "metadata": {},
   "outputs": [
    {
     "data": {
      "text/plain": [
       "extras_type\n",
       "nan        246795\n",
       "wides        8380\n",
       "legbyes      4001\n",
       "noballs      1069\n",
       "byes          673\n",
       "penalty         2\n",
       "Name: count, dtype: int64"
      ]
     },
     "metadata": {},
     "output_type": "display_data"
    },
    {
     "data": {
      "image/png": "[encoded data removed]",
      "text/plain": [
       "<Figure size 1000x600 with 1 Axes>"
      ]
     },
     "metadata": {},
     "output_type": "display_data"
    }
   ],
   "source": [
    "if 'extras_type' in deliveries.columns:\n",
    "    extras = deliveries['extras_type'].value_counts()\n",
    "    display(extras.head(10))\n",
    "    extras.plot(kind='pie', autopct='%1.1f%%')\n",
    "    plt.title('Distribution of extras types')\n",
    "    plt.ylabel('')\n",
    "    plt.show()"
   ]
  },
  {
   "cell_type": "code",
   "execution_count": 50,
   "id": "abd90f9e-5a2f-49aa-a6bc-24b2e0456a4b",
   "metadata": {},
   "outputs": [
    {
     "name": "stdout",
     "output_type": "stream",
     "text": [
      "Percentage of matches won by the team batting second (chasing): 53.88%\n"
     ]
    }
   ],
   "source": [
    "# Win probability given chasing / defending\n",
    "if {'match_id','inning','batting_team','total_runs'}.issubset(deliveries.columns):\n",
    "    # compute innings totals\n",
    "    innings = deliveries.groupby(['match_id','inning','batting_team'])['total_runs'].sum().reset_index()\n",
    "# pivot to have inning 1 and 2 totals\n",
    "    inn_pivot = innings.pivot(index='match_id', columns='inning', values='total_runs')\n",
    "    inn_pivot = inn_pivot.rename(columns={1:'inning1_runs', 2:'inning2_runs'})\n",
    "\n",
    "# merge with matches winners\n",
    "    match_w = matches.set_index('id')[['winner']]\n",
    "    inn_pivot = inn_pivot.merge(match_w, left_index=True, right_index=True, how='left')\n",
    "    \n",
    "# determine which team batted second (requires batting_team information)\n",
    "# get batting_team for inning 2\n",
    "    inning2_batting = innings[innings['inning']==2].set_index('match_id')['batting_team']\n",
    "    inn_pivot['batting_team_inn2'] = inning2_batting\n",
    "\n",
    "# who won more when chasing?\n",
    "    inn_pivot['won_chasing'] = inn_pivot['winner'] == inn_pivot['batting_team_inn2']\n",
    "    chase_pct = inn_pivot['won_chasing'].mean()*100\n",
    "    print(f\"Percentage of matches won by the team batting second (chasing): {chase_pct:.2f}%\")\n"
   ]
  },
  {
   "cell_type": "code",
   "execution_count": null,
   "id": "feb2adc6-1ff6-44c0-b688-dcdf7dda9f13",
   "metadata": {},
   "outputs": [],
   "source": []
  }
 ],
 "metadata": {
  "kernelspec": {
   "display_name": "Python 3 (ipykernel)",
   "language": "python",
   "name": "python3"
  },
  "language_info": {
   "codemirror_mode": {
    "name": "ipython",
    "version": 3
   },
   "file_extension": ".py",
   "mimetype": "text/x-python",
   "name": "python",
   "nbconvert_exporter": "python",
   "pygments_lexer": "ipython3",
   "version": "3.13.0"
  }
 },
 "nbformat": 4,
 "nbformat_minor": 5
}
